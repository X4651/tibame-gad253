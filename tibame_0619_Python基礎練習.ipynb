{
  "nbformat": 4,
  "nbformat_minor": 0,
  "metadata": {
    "colab": {
      "provenance": [],
      "authorship_tag": "ABX9TyP5KpVkhBqZzI6AHOCldVY7",
      "include_colab_link": true
    },
    "kernelspec": {
      "name": "python3",
      "display_name": "Python 3"
    },
    "language_info": {
      "name": "python"
    }
  },
  "cells": [
    {
      "cell_type": "markdown",
      "metadata": {
        "id": "view-in-github",
        "colab_type": "text"
      },
      "source": [
        "<a href=\"https://colab.research.google.com/github/X4651/tibame-gad253/blob/main/tibame_0619_Python%E5%9F%BA%E7%A4%8E%E7%B7%B4%E7%BF%92.ipynb\" target=\"_parent\"><img src=\"https://colab.research.google.com/assets/colab-badge.svg\" alt=\"Open In Colab\"/></a>"
      ]
    },
    {
      "cell_type": "code",
      "execution_count": null,
      "metadata": {
        "colab": {
          "base_uri": "https://localhost:8080/"
        },
        "id": "E8BraGy4w45u",
        "outputId": "de025428-2406-4dff-d68f-ff5082fd71d2"
      },
      "outputs": [
        {
          "output_type": "stream",
          "name": "stdout",
          "text": [
            "1\n",
            "3\n",
            "6\n",
            "10\n",
            "15\n",
            "21\n",
            "28\n",
            "36\n",
            "45\n",
            "55\n"
          ]
        }
      ],
      "source": [
        "# 從一加到十\n",
        "total = 0\n",
        "i = 0\n",
        "while i < 10:\n",
        "    total = total + (i+1)\n",
        "    print(total)\n",
        "    i = i + 1"
      ]
    },
    {
      "cell_type": "code",
      "source": [
        "# 九九乘法\n",
        "a = 328\n",
        "b = 8\n",
        "c = 10\n",
        "total = 0\n",
        "\n",
        "a_str = str(a)\n",
        "i = 0\n",
        "while i < len(a_str):\n",
        "    total = total + int(a_str[len(a_str)-i-1]) * b * c ** i\n",
        "    i = i + 1\n",
        "print(total)"
      ],
      "metadata": {
        "colab": {
          "base_uri": "https://localhost:8080/"
        },
        "id": "qqniMA_bzZ-t",
        "outputId": "9f8554ef-4c10-484b-e5af-bed873720acd"
      },
      "execution_count": null,
      "outputs": [
        {
          "output_type": "stream",
          "name": "stdout",
          "text": [
            "2624\n"
          ]
        }
      ]
    },
    {
      "cell_type": "code",
      "source": [
        "!pip install ColabTurtle"
      ],
      "metadata": {
        "id": "IVIDvGtMBZ3z"
      },
      "execution_count": null,
      "outputs": []
    },
    {
      "cell_type": "code",
      "source": [
        "from ColabTurtle.Turtle import *\n",
        "\n",
        "initializeTurtle()\n",
        "speed=(10)\n",
        "forward(40)\n",
        "left(90)\n",
        "backward(100)\n",
        "right(90)\n",
        "speed=(10)\n",
        "penup()\n",
        "forward(20)\n",
        "pendown()\n",
        "forward(20)\n",
        "\n",
        "p = position()\n",
        "print(p)\n",
        "# (0,0)在左上，往右增加，往下增加\n",
        "print(p[0])\n",
        "print(p[1])\n",
        "goto(0,0)"
      ],
      "metadata": {
        "colab": {
          "base_uri": "https://localhost:8080/",
          "height": 574
        },
        "id": "mGXC0FasBzBY",
        "outputId": "680cfea4-c5fc-40ad-a4e3-fae0441a7910"
      },
      "execution_count": null,
      "outputs": [
        {
          "output_type": "display_data",
          "data": {
            "text/plain": [
              "<IPython.core.display.HTML object>"
            ],
            "text/html": [
              "\n",
              "      <svg width=\"800\" height=\"500\">\n",
              "        <rect width=\"100%\" height=\"100%\" fill=\"black\"/>\n",
              "        <line x1=\"400\" y1=\"250\" x2=\"400.0\" y2=\"210.0\" stroke-linecap=\"round\" style=\"stroke:white;stroke-width:4\"/><line x1=\"400.0\" y1=\"210.0\" x2=\"500.0\" y2=\"210.0\" stroke-linecap=\"round\" style=\"stroke:white;stroke-width:4\"/><line x1=\"500.0\" y1=\"190.0\" x2=\"500.0\" y2=\"170.0\" stroke-linecap=\"round\" style=\"stroke:white;stroke-width:4\"/><line x1=\"500.0\" y1=\"170.0\" x2=\"0\" y2=\"0\" stroke-linecap=\"round\" style=\"stroke:white;stroke-width:4\"/>\n",
              "        <g visibility=visible transform=\"rotate(360,0,0) translate(-18, -18)\">\n",
              "<path style=\" stroke:none;fill-rule:evenodd;fill:white;fill-opacity:1;\" d=\"M 18.214844 0.632812 C 16.109375 1.800781 15.011719 4.074219 15.074219 7.132812 L 15.085938 7.652344 L 14.785156 7.496094 C 13.476562 6.824219 11.957031 6.671875 10.40625 7.066406 C 8.46875 7.550781 6.515625 9.15625 4.394531 11.992188 C 3.0625 13.777344 2.679688 14.636719 3.042969 15.027344 L 3.15625 15.152344 L 3.519531 15.152344 C 4.238281 15.152344 4.828125 14.886719 8.1875 13.039062 C 9.386719 12.378906 10.371094 11.839844 10.378906 11.839844 C 10.386719 11.839844 10.355469 11.929688 10.304688 12.035156 C 9.832031 13.09375 9.257812 14.820312 8.96875 16.078125 C 7.914062 20.652344 8.617188 24.53125 11.070312 27.660156 C 11.351562 28.015625 11.363281 27.914062 10.972656 28.382812 C 8.925781 30.84375 7.945312 33.28125 8.238281 35.1875 C 8.289062 35.527344 8.28125 35.523438 8.917969 35.523438 C 10.941406 35.523438 13.074219 34.207031 15.136719 31.6875 C 15.359375 31.417969 15.328125 31.425781 15.5625 31.574219 C 16.292969 32.042969 18.023438 32.964844 18.175781 32.964844 C 18.335938 32.964844 19.941406 32.210938 20.828125 31.71875 C 20.996094 31.625 21.136719 31.554688 21.136719 31.558594 C 21.203125 31.664062 21.898438 32.414062 22.222656 32.730469 C 23.835938 34.300781 25.5625 35.132812 27.582031 35.300781 C 27.90625 35.328125 27.9375 35.308594 28.007812 34.984375 C 28.382812 33.242188 27.625 30.925781 25.863281 28.425781 L 25.542969 27.96875 L 25.699219 27.785156 C 28.945312 23.960938 29.132812 18.699219 26.257812 11.96875 L 26.207031 11.84375 L 27.945312 12.703125 C 31.53125 14.476562 32.316406 14.800781 33.03125 14.800781 C 33.976562 14.800781 33.78125 13.9375 32.472656 12.292969 C 28.519531 7.355469 25.394531 5.925781 21.921875 7.472656 L 21.558594 7.636719 L 21.578125 7.542969 C 21.699219 6.992188 21.761719 5.742188 21.699219 5.164062 C 21.496094 3.296875 20.664062 1.964844 19.003906 0.855469 C 18.480469 0.503906 18.457031 0.5 18.214844 0.632812\"/>\n",
              "</g>\n",
              "      </svg>\n",
              "    "
            ]
          },
          "metadata": {}
        },
        {
          "output_type": "stream",
          "name": "stdout",
          "text": [
            "(500.0, 170.0)\n",
            "500.0\n",
            "170.0\n"
          ]
        }
      ]
    },
    {
      "cell_type": "code",
      "source": [
        "from ColabTurtle.Turtle import *\n",
        "\n",
        "initializeTurtle()\n",
        "speed=(10)\n",
        "\n",
        "i = 0\n",
        "while i < 4:\n",
        "    forward(100)\n",
        "    right(90)\n",
        "    i = i + 1"
      ],
      "metadata": {
        "colab": {
          "base_uri": "https://localhost:8080/",
          "height": 522
        },
        "id": "2lwiG-w_CoOH",
        "outputId": "55aebc93-e6e0-4159-c2ef-6305b5ef2543"
      },
      "execution_count": null,
      "outputs": [
        {
          "output_type": "display_data",
          "data": {
            "text/plain": [
              "<IPython.core.display.HTML object>"
            ],
            "text/html": [
              "\n",
              "      <svg width=\"800\" height=\"500\">\n",
              "        <rect width=\"100%\" height=\"100%\" fill=\"black\"/>\n",
              "        <line x1=\"400\" y1=\"250\" x2=\"400.0\" y2=\"150.0\" stroke-linecap=\"round\" style=\"stroke:white;stroke-width:4\"/><line x1=\"400.0\" y1=\"150.0\" x2=\"500.0\" y2=\"150.0\" stroke-linecap=\"round\" style=\"stroke:white;stroke-width:4\"/><line x1=\"500.0\" y1=\"150.0\" x2=\"500.0\" y2=\"250.0\" stroke-linecap=\"round\" style=\"stroke:white;stroke-width:4\"/><line x1=\"500.0\" y1=\"250.0\" x2=\"400.0\" y2=\"250.0\" stroke-linecap=\"round\" style=\"stroke:white;stroke-width:4\"/>\n",
              "        <g visibility=visible transform=\"rotate(360,400.0,250.0) translate(382.0, 232.0)\">\n",
              "<path style=\" stroke:none;fill-rule:evenodd;fill:white;fill-opacity:1;\" d=\"M 18.214844 0.632812 C 16.109375 1.800781 15.011719 4.074219 15.074219 7.132812 L 15.085938 7.652344 L 14.785156 7.496094 C 13.476562 6.824219 11.957031 6.671875 10.40625 7.066406 C 8.46875 7.550781 6.515625 9.15625 4.394531 11.992188 C 3.0625 13.777344 2.679688 14.636719 3.042969 15.027344 L 3.15625 15.152344 L 3.519531 15.152344 C 4.238281 15.152344 4.828125 14.886719 8.1875 13.039062 C 9.386719 12.378906 10.371094 11.839844 10.378906 11.839844 C 10.386719 11.839844 10.355469 11.929688 10.304688 12.035156 C 9.832031 13.09375 9.257812 14.820312 8.96875 16.078125 C 7.914062 20.652344 8.617188 24.53125 11.070312 27.660156 C 11.351562 28.015625 11.363281 27.914062 10.972656 28.382812 C 8.925781 30.84375 7.945312 33.28125 8.238281 35.1875 C 8.289062 35.527344 8.28125 35.523438 8.917969 35.523438 C 10.941406 35.523438 13.074219 34.207031 15.136719 31.6875 C 15.359375 31.417969 15.328125 31.425781 15.5625 31.574219 C 16.292969 32.042969 18.023438 32.964844 18.175781 32.964844 C 18.335938 32.964844 19.941406 32.210938 20.828125 31.71875 C 20.996094 31.625 21.136719 31.554688 21.136719 31.558594 C 21.203125 31.664062 21.898438 32.414062 22.222656 32.730469 C 23.835938 34.300781 25.5625 35.132812 27.582031 35.300781 C 27.90625 35.328125 27.9375 35.308594 28.007812 34.984375 C 28.382812 33.242188 27.625 30.925781 25.863281 28.425781 L 25.542969 27.96875 L 25.699219 27.785156 C 28.945312 23.960938 29.132812 18.699219 26.257812 11.96875 L 26.207031 11.84375 L 27.945312 12.703125 C 31.53125 14.476562 32.316406 14.800781 33.03125 14.800781 C 33.976562 14.800781 33.78125 13.9375 32.472656 12.292969 C 28.519531 7.355469 25.394531 5.925781 21.921875 7.472656 L 21.558594 7.636719 L 21.578125 7.542969 C 21.699219 6.992188 21.761719 5.742188 21.699219 5.164062 C 21.496094 3.296875 20.664062 1.964844 19.003906 0.855469 C 18.480469 0.503906 18.457031 0.5 18.214844 0.632812\"/>\n",
              "</g>\n",
              "      </svg>\n",
              "    "
            ]
          },
          "metadata": {}
        }
      ]
    },
    {
      "cell_type": "code",
      "source": [
        "import math\n",
        "\n",
        "initializeTurtle()\n",
        "speed=(8)\n",
        "radius = 100\n",
        "n = 5\n",
        "\n",
        "mid_angle = 360 / n\n",
        "other_angle_deg = (180 - mid_angle) / 2\n",
        "other_angle_rad = math.radians(other_angle_deg)\n",
        "width = 2 * radius * math.cos(other_angle_rad)\n",
        "\n",
        "\n",
        "# 放到起始點\n",
        "penup()\n",
        "forward(radius)\n",
        "pendown()\n",
        "right(180-other_angle_deg)\n",
        "i = 0\n",
        "while i < n:\n",
        "    # 開始走\n",
        "    forward(width)\n",
        "    right(mid_angle)\n",
        "    i = i + 1"
      ],
      "metadata": {
        "colab": {
          "base_uri": "https://localhost:8080/",
          "height": 522
        },
        "id": "gPIXCgayRvD8",
        "outputId": "7614c906-70b9-4a07-a9b3-110124f64aad"
      },
      "execution_count": null,
      "outputs": [
        {
          "output_type": "display_data",
          "data": {
            "text/plain": [
              "<IPython.core.display.HTML object>"
            ],
            "text/html": [
              "\n",
              "      <svg width=\"800\" height=\"500\">\n",
              "        <rect width=\"100%\" height=\"100%\" fill=\"black\"/>\n",
              "        <line x1=\"400.0\" y1=\"150.0\" x2=\"495.106\" y2=\"219.098\" stroke-linecap=\"round\" style=\"stroke:white;stroke-width:4\"/><line x1=\"495.106\" y1=\"219.098\" x2=\"458.779\" y2=\"330.901\" stroke-linecap=\"round\" style=\"stroke:white;stroke-width:4\"/><line x1=\"458.779\" y1=\"330.901\" x2=\"341.222\" y2=\"330.901\" stroke-linecap=\"round\" style=\"stroke:white;stroke-width:4\"/><line x1=\"341.222\" y1=\"330.901\" x2=\"304.895\" y2=\"219.098\" stroke-linecap=\"round\" style=\"stroke:white;stroke-width:4\"/><line x1=\"304.895\" y1=\"219.098\" x2=\"400.001\" y2=\"150.0\" stroke-linecap=\"round\" style=\"stroke:white;stroke-width:4\"/>\n",
              "        <g visibility=visible transform=\"rotate(126.0,400.001,150.0) translate(382.001, 132.0)\">\n",
              "<path style=\" stroke:none;fill-rule:evenodd;fill:white;fill-opacity:1;\" d=\"M 18.214844 0.632812 C 16.109375 1.800781 15.011719 4.074219 15.074219 7.132812 L 15.085938 7.652344 L 14.785156 7.496094 C 13.476562 6.824219 11.957031 6.671875 10.40625 7.066406 C 8.46875 7.550781 6.515625 9.15625 4.394531 11.992188 C 3.0625 13.777344 2.679688 14.636719 3.042969 15.027344 L 3.15625 15.152344 L 3.519531 15.152344 C 4.238281 15.152344 4.828125 14.886719 8.1875 13.039062 C 9.386719 12.378906 10.371094 11.839844 10.378906 11.839844 C 10.386719 11.839844 10.355469 11.929688 10.304688 12.035156 C 9.832031 13.09375 9.257812 14.820312 8.96875 16.078125 C 7.914062 20.652344 8.617188 24.53125 11.070312 27.660156 C 11.351562 28.015625 11.363281 27.914062 10.972656 28.382812 C 8.925781 30.84375 7.945312 33.28125 8.238281 35.1875 C 8.289062 35.527344 8.28125 35.523438 8.917969 35.523438 C 10.941406 35.523438 13.074219 34.207031 15.136719 31.6875 C 15.359375 31.417969 15.328125 31.425781 15.5625 31.574219 C 16.292969 32.042969 18.023438 32.964844 18.175781 32.964844 C 18.335938 32.964844 19.941406 32.210938 20.828125 31.71875 C 20.996094 31.625 21.136719 31.554688 21.136719 31.558594 C 21.203125 31.664062 21.898438 32.414062 22.222656 32.730469 C 23.835938 34.300781 25.5625 35.132812 27.582031 35.300781 C 27.90625 35.328125 27.9375 35.308594 28.007812 34.984375 C 28.382812 33.242188 27.625 30.925781 25.863281 28.425781 L 25.542969 27.96875 L 25.699219 27.785156 C 28.945312 23.960938 29.132812 18.699219 26.257812 11.96875 L 26.207031 11.84375 L 27.945312 12.703125 C 31.53125 14.476562 32.316406 14.800781 33.03125 14.800781 C 33.976562 14.800781 33.78125 13.9375 32.472656 12.292969 C 28.519531 7.355469 25.394531 5.925781 21.921875 7.472656 L 21.558594 7.636719 L 21.578125 7.542969 C 21.699219 6.992188 21.761719 5.742188 21.699219 5.164062 C 21.496094 3.296875 20.664062 1.964844 19.003906 0.855469 C 18.480469 0.503906 18.457031 0.5 18.214844 0.632812\"/>\n",
              "</g>\n",
              "      </svg>\n",
              "    "
            ]
          },
          "metadata": {}
        }
      ]
    },
    {
      "cell_type": "code",
      "source": [
        "initializeTurtle()\n",
        "speed = (8)\n",
        "radius = 100\n",
        "n = 5\n",
        "\n",
        "mid_angle_deg = 360 / n\n",
        "\n",
        "origin_pos = pos()\n",
        "# 第一條線\n",
        "forward(radius)\n",
        "prev_pos = pos()\n",
        "goto(origin_pos)\n",
        "# 第一個三角形\n",
        "right(mid_angle_deg)\n",
        "forward(radius)\n",
        "prev_pos2 = pos()\n",
        "goto(prev_pos)\n",
        "goto(origin_pos)\n",
        "# 第二個三角形\n",
        "right(mid_angle_deg)\n",
        "forward(radius)\n",
        "prev_pos3 = pos()\n",
        "goto(prev_pos2)\n",
        "goto(origin_pos)\n",
        "# 第三個三角形\n",
        "right(mid_angle_deg)\n",
        "forward(radius)\n",
        "prev_pos4 = pos()\n",
        "goto(prev_pos3)\n",
        "goto(origin_pos)\n",
        "# 第四個三角形\n",
        "right(mid_angle_deg)\n",
        "forward(radius)\n",
        "prev_pos5 = pos()\n",
        "goto(prev_pos4)\n",
        "goto(origin_pos)\n",
        "# 第五個三角形\n",
        "right(mid_angle_deg)\n",
        "forward(radius)\n",
        "prev_pos6 = pos()\n",
        "goto(prev_pos5)\n",
        "goto(origin_pos)"
      ],
      "metadata": {
        "colab": {
          "base_uri": "https://localhost:8080/",
          "height": 542
        },
        "id": "fC6Ps2JBSOBD",
        "outputId": "d6d23554-7d4e-4a06-e9f9-7159b394311c"
      },
      "execution_count": null,
      "outputs": [
        {
          "output_type": "display_data",
          "data": {
            "text/plain": [
              "<IPython.core.display.HTML object>"
            ],
            "text/html": [
              "\n",
              "      <svg width=\"800\" height=\"500\">\n",
              "        <rect width=\"100%\" height=\"100%\" fill=\"black\"/>\n",
              "        <line x1=\"400\" y1=\"250\" x2=\"400.0\" y2=\"150.0\" stroke-linecap=\"round\" style=\"stroke:white;stroke-width:4\"/><line x1=\"400.0\" y1=\"150.0\" x2=\"400\" y2=\"250\" stroke-linecap=\"round\" style=\"stroke:white;stroke-width:4\"/><line x1=\"400\" y1=\"250\" x2=\"495.106\" y2=\"219.098\" stroke-linecap=\"round\" style=\"stroke:white;stroke-width:4\"/><line x1=\"495.106\" y1=\"219.098\" x2=\"400.0\" y2=\"150.0\" stroke-linecap=\"round\" style=\"stroke:white;stroke-width:4\"/><line x1=\"400.0\" y1=\"150.0\" x2=\"400\" y2=\"250\" stroke-linecap=\"round\" style=\"stroke:white;stroke-width:4\"/><line x1=\"400\" y1=\"250\" x2=\"458.779\" y2=\"330.902\" stroke-linecap=\"round\" style=\"stroke:white;stroke-width:4\"/><line x1=\"458.779\" y1=\"330.902\" x2=\"495.106\" y2=\"219.098\" stroke-linecap=\"round\" style=\"stroke:white;stroke-width:4\"/><line x1=\"495.106\" y1=\"219.098\" x2=\"400\" y2=\"250\" stroke-linecap=\"round\" style=\"stroke:white;stroke-width:4\"/><line x1=\"400\" y1=\"250\" x2=\"341.221\" y2=\"330.902\" stroke-linecap=\"round\" style=\"stroke:white;stroke-width:4\"/><line x1=\"341.221\" y1=\"330.902\" x2=\"458.779\" y2=\"330.902\" stroke-linecap=\"round\" style=\"stroke:white;stroke-width:4\"/><line x1=\"458.779\" y1=\"330.902\" x2=\"400\" y2=\"250\" stroke-linecap=\"round\" style=\"stroke:white;stroke-width:4\"/><line x1=\"400\" y1=\"250\" x2=\"304.894\" y2=\"219.098\" stroke-linecap=\"round\" style=\"stroke:white;stroke-width:4\"/><line x1=\"304.894\" y1=\"219.098\" x2=\"341.221\" y2=\"330.902\" stroke-linecap=\"round\" style=\"stroke:white;stroke-width:4\"/><line x1=\"341.221\" y1=\"330.902\" x2=\"400\" y2=\"250\" stroke-linecap=\"round\" style=\"stroke:white;stroke-width:4\"/><line x1=\"400\" y1=\"250\" x2=\"400.0\" y2=\"150.0\" stroke-linecap=\"round\" style=\"stroke:white;stroke-width:4\"/><line x1=\"400.0\" y1=\"150.0\" x2=\"304.894\" y2=\"219.098\" stroke-linecap=\"round\" style=\"stroke:white;stroke-width:4\"/><line x1=\"304.894\" y1=\"219.098\" x2=\"400\" y2=\"250\" stroke-linecap=\"round\" style=\"stroke:white;stroke-width:4\"/>\n",
              "        <g visibility=visible transform=\"rotate(360.0,400,250) translate(382, 232)\">\n",
              "<path style=\" stroke:none;fill-rule:evenodd;fill:white;fill-opacity:1;\" d=\"M 18.214844 0.632812 C 16.109375 1.800781 15.011719 4.074219 15.074219 7.132812 L 15.085938 7.652344 L 14.785156 7.496094 C 13.476562 6.824219 11.957031 6.671875 10.40625 7.066406 C 8.46875 7.550781 6.515625 9.15625 4.394531 11.992188 C 3.0625 13.777344 2.679688 14.636719 3.042969 15.027344 L 3.15625 15.152344 L 3.519531 15.152344 C 4.238281 15.152344 4.828125 14.886719 8.1875 13.039062 C 9.386719 12.378906 10.371094 11.839844 10.378906 11.839844 C 10.386719 11.839844 10.355469 11.929688 10.304688 12.035156 C 9.832031 13.09375 9.257812 14.820312 8.96875 16.078125 C 7.914062 20.652344 8.617188 24.53125 11.070312 27.660156 C 11.351562 28.015625 11.363281 27.914062 10.972656 28.382812 C 8.925781 30.84375 7.945312 33.28125 8.238281 35.1875 C 8.289062 35.527344 8.28125 35.523438 8.917969 35.523438 C 10.941406 35.523438 13.074219 34.207031 15.136719 31.6875 C 15.359375 31.417969 15.328125 31.425781 15.5625 31.574219 C 16.292969 32.042969 18.023438 32.964844 18.175781 32.964844 C 18.335938 32.964844 19.941406 32.210938 20.828125 31.71875 C 20.996094 31.625 21.136719 31.554688 21.136719 31.558594 C 21.203125 31.664062 21.898438 32.414062 22.222656 32.730469 C 23.835938 34.300781 25.5625 35.132812 27.582031 35.300781 C 27.90625 35.328125 27.9375 35.308594 28.007812 34.984375 C 28.382812 33.242188 27.625 30.925781 25.863281 28.425781 L 25.542969 27.96875 L 25.699219 27.785156 C 28.945312 23.960938 29.132812 18.699219 26.257812 11.96875 L 26.207031 11.84375 L 27.945312 12.703125 C 31.53125 14.476562 32.316406 14.800781 33.03125 14.800781 C 33.976562 14.800781 33.78125 13.9375 32.472656 12.292969 C 28.519531 7.355469 25.394531 5.925781 21.921875 7.472656 L 21.558594 7.636719 L 21.578125 7.542969 C 21.699219 6.992188 21.761719 5.742188 21.699219 5.164062 C 21.496094 3.296875 20.664062 1.964844 19.003906 0.855469 C 18.480469 0.503906 18.457031 0.5 18.214844 0.632812\"/>\n",
              "</g>\n",
              "      </svg>\n",
              "    "
            ]
          },
          "metadata": {}
        }
      ]
    },
    {
      "cell_type": "code",
      "source": [
        "import random\n",
        "from ColabTurtle.Turtle import *\n",
        "\n",
        "\n",
        "initializeTurtle()\n",
        "bgcolor(255, 255, 255)\n",
        "\n",
        "speed(5)\n",
        "radius = 100\n",
        "n = 20\n",
        "\n",
        "mid_angle_deg = 360 / n\n",
        "other_angle_deg = (180 - mid_angle_deg) / 2\n",
        "\n",
        "origin_pos = pos()\n",
        "\n",
        "i = 0\n",
        "while i < n:\n",
        "    # seet rgb\n",
        "    r = random.randint(0, 255)\n",
        "    g = random.randint(0, 255)\n",
        "    b = random.randint(0, 255)\n",
        "    pencolor(r, g, b)\n",
        "\n",
        "    forward(radius)\n",
        "    prev_pos = pos()\n",
        "    goto(origin_pos)\n",
        "    right(mid_angle_deg)\n",
        "    forward(radius)\n",
        "    goto(prev_pos)\n",
        "    goto(origin_pos)\n",
        "    i = i + 1"
      ],
      "metadata": {
        "colab": {
          "base_uri": "https://localhost:8080/",
          "height": 542
        },
        "id": "s4TZib7Cfu-L",
        "outputId": "0a190c72-16b8-4fa5-84aa-80ee905703e7"
      },
      "execution_count": null,
      "outputs": [
        {
          "output_type": "display_data",
          "data": {
            "text/plain": [
              "<IPython.core.display.HTML object>"
            ],
            "text/html": [
              "\n",
              "      <svg width=\"800\" height=\"500\">\n",
              "        <rect width=\"100%\" height=\"100%\" fill=\"rgb(255,255,255)\"/>\n",
              "        <line x1=\"400\" y1=\"250\" x2=\"400.0\" y2=\"150.0\" stroke-linecap=\"round\" style=\"stroke:rgb(210,94,202);stroke-width:4\"/><line x1=\"400.0\" y1=\"150.0\" x2=\"400\" y2=\"250\" stroke-linecap=\"round\" style=\"stroke:rgb(210,94,202);stroke-width:4\"/><line x1=\"400\" y1=\"250\" x2=\"430.902\" y2=\"154.894\" stroke-linecap=\"round\" style=\"stroke:rgb(210,94,202);stroke-width:4\"/><line x1=\"430.902\" y1=\"154.894\" x2=\"400.0\" y2=\"150.0\" stroke-linecap=\"round\" style=\"stroke:rgb(210,94,202);stroke-width:4\"/><line x1=\"400.0\" y1=\"150.0\" x2=\"400\" y2=\"250\" stroke-linecap=\"round\" style=\"stroke:rgb(210,94,202);stroke-width:4\"/><line x1=\"400\" y1=\"250\" x2=\"430.902\" y2=\"154.894\" stroke-linecap=\"round\" style=\"stroke:rgb(63,237,42);stroke-width:4\"/><line x1=\"430.902\" y1=\"154.894\" x2=\"400\" y2=\"250\" stroke-linecap=\"round\" style=\"stroke:rgb(63,237,42);stroke-width:4\"/><line x1=\"400\" y1=\"250\" x2=\"458.779\" y2=\"169.098\" stroke-linecap=\"round\" style=\"stroke:rgb(63,237,42);stroke-width:4\"/><line x1=\"458.779\" y1=\"169.098\" x2=\"430.902\" y2=\"154.894\" stroke-linecap=\"round\" style=\"stroke:rgb(63,237,42);stroke-width:4\"/><line x1=\"430.902\" y1=\"154.894\" x2=\"400\" y2=\"250\" stroke-linecap=\"round\" style=\"stroke:rgb(63,237,42);stroke-width:4\"/><line x1=\"400\" y1=\"250\" x2=\"458.779\" y2=\"169.098\" stroke-linecap=\"round\" style=\"stroke:rgb(213,217,117);stroke-width:4\"/><line x1=\"458.779\" y1=\"169.098\" x2=\"400\" y2=\"250\" stroke-linecap=\"round\" style=\"stroke:rgb(213,217,117);stroke-width:4\"/><line x1=\"400\" y1=\"250\" x2=\"480.902\" y2=\"191.221\" stroke-linecap=\"round\" style=\"stroke:rgb(213,217,117);stroke-width:4\"/><line x1=\"480.902\" y1=\"191.221\" x2=\"458.779\" y2=\"169.098\" stroke-linecap=\"round\" style=\"stroke:rgb(213,217,117);stroke-width:4\"/><line x1=\"458.779\" y1=\"169.098\" x2=\"400\" y2=\"250\" stroke-linecap=\"round\" style=\"stroke:rgb(213,217,117);stroke-width:4\"/><line x1=\"400\" y1=\"250\" x2=\"480.902\" y2=\"191.221\" stroke-linecap=\"round\" style=\"stroke:rgb(170,77,185);stroke-width:4\"/><line x1=\"480.902\" y1=\"191.221\" x2=\"400\" y2=\"250\" stroke-linecap=\"round\" style=\"stroke:rgb(170,77,185);stroke-width:4\"/><line x1=\"400\" y1=\"250\" x2=\"495.106\" y2=\"219.098\" stroke-linecap=\"round\" style=\"stroke:rgb(170,77,185);stroke-width:4\"/><line x1=\"495.106\" y1=\"219.098\" x2=\"480.902\" y2=\"191.221\" stroke-linecap=\"round\" style=\"stroke:rgb(170,77,185);stroke-width:4\"/><line x1=\"480.902\" y1=\"191.221\" x2=\"400\" y2=\"250\" stroke-linecap=\"round\" style=\"stroke:rgb(170,77,185);stroke-width:4\"/><line x1=\"400\" y1=\"250\" x2=\"495.106\" y2=\"219.098\" stroke-linecap=\"round\" style=\"stroke:rgb(54,121,196);stroke-width:4\"/><line x1=\"495.106\" y1=\"219.098\" x2=\"400\" y2=\"250\" stroke-linecap=\"round\" style=\"stroke:rgb(54,121,196);stroke-width:4\"/><line x1=\"400\" y1=\"250\" x2=\"500.0\" y2=\"250.0\" stroke-linecap=\"round\" style=\"stroke:rgb(54,121,196);stroke-width:4\"/><line x1=\"500.0\" y1=\"250.0\" x2=\"495.106\" y2=\"219.098\" stroke-linecap=\"round\" style=\"stroke:rgb(54,121,196);stroke-width:4\"/><line x1=\"495.106\" y1=\"219.098\" x2=\"400\" y2=\"250\" stroke-linecap=\"round\" style=\"stroke:rgb(54,121,196);stroke-width:4\"/><line x1=\"400\" y1=\"250\" x2=\"500.0\" y2=\"250.0\" stroke-linecap=\"round\" style=\"stroke:rgb(171,85,237);stroke-width:4\"/><line x1=\"500.0\" y1=\"250.0\" x2=\"400\" y2=\"250\" stroke-linecap=\"round\" style=\"stroke:rgb(171,85,237);stroke-width:4\"/><line x1=\"400\" y1=\"250\" x2=\"495.106\" y2=\"280.902\" stroke-linecap=\"round\" style=\"stroke:rgb(171,85,237);stroke-width:4\"/><line x1=\"495.106\" y1=\"280.902\" x2=\"500.0\" y2=\"250.0\" stroke-linecap=\"round\" style=\"stroke:rgb(171,85,237);stroke-width:4\"/><line x1=\"500.0\" y1=\"250.0\" x2=\"400\" y2=\"250\" stroke-linecap=\"round\" style=\"stroke:rgb(171,85,237);stroke-width:4\"/><line x1=\"400\" y1=\"250\" x2=\"495.106\" y2=\"280.902\" stroke-linecap=\"round\" style=\"stroke:rgb(38,91,138);stroke-width:4\"/><line x1=\"495.106\" y1=\"280.902\" x2=\"400\" y2=\"250\" stroke-linecap=\"round\" style=\"stroke:rgb(38,91,138);stroke-width:4\"/><line x1=\"400\" y1=\"250\" x2=\"480.902\" y2=\"308.779\" stroke-linecap=\"round\" style=\"stroke:rgb(38,91,138);stroke-width:4\"/><line x1=\"480.902\" y1=\"308.779\" x2=\"495.106\" y2=\"280.902\" stroke-linecap=\"round\" style=\"stroke:rgb(38,91,138);stroke-width:4\"/><line x1=\"495.106\" y1=\"280.902\" x2=\"400\" y2=\"250\" stroke-linecap=\"round\" style=\"stroke:rgb(38,91,138);stroke-width:4\"/><line x1=\"400\" y1=\"250\" x2=\"480.902\" y2=\"308.779\" stroke-linecap=\"round\" style=\"stroke:rgb(111,171,140);stroke-width:4\"/><line x1=\"480.902\" y1=\"308.779\" x2=\"400\" y2=\"250\" stroke-linecap=\"round\" style=\"stroke:rgb(111,171,140);stroke-width:4\"/><line x1=\"400\" y1=\"250\" x2=\"458.779\" y2=\"330.902\" stroke-linecap=\"round\" style=\"stroke:rgb(111,171,140);stroke-width:4\"/><line x1=\"458.779\" y1=\"330.902\" x2=\"480.902\" y2=\"308.779\" stroke-linecap=\"round\" style=\"stroke:rgb(111,171,140);stroke-width:4\"/><line x1=\"480.902\" y1=\"308.779\" x2=\"400\" y2=\"250\" stroke-linecap=\"round\" style=\"stroke:rgb(111,171,140);stroke-width:4\"/><line x1=\"400\" y1=\"250\" x2=\"458.779\" y2=\"330.902\" stroke-linecap=\"round\" style=\"stroke:rgb(196,28,251);stroke-width:4\"/><line x1=\"458.779\" y1=\"330.902\" x2=\"400\" y2=\"250\" stroke-linecap=\"round\" style=\"stroke:rgb(196,28,251);stroke-width:4\"/><line x1=\"400\" y1=\"250\" x2=\"430.902\" y2=\"345.106\" stroke-linecap=\"round\" style=\"stroke:rgb(196,28,251);stroke-width:4\"/><line x1=\"430.902\" y1=\"345.106\" x2=\"458.779\" y2=\"330.902\" stroke-linecap=\"round\" style=\"stroke:rgb(196,28,251);stroke-width:4\"/><line x1=\"458.779\" y1=\"330.902\" x2=\"400\" y2=\"250\" stroke-linecap=\"round\" style=\"stroke:rgb(196,28,251);stroke-width:4\"/><line x1=\"400\" y1=\"250\" x2=\"430.902\" y2=\"345.106\" stroke-linecap=\"round\" style=\"stroke:rgb(40,236,140);stroke-width:4\"/><line x1=\"430.902\" y1=\"345.106\" x2=\"400\" y2=\"250\" stroke-linecap=\"round\" style=\"stroke:rgb(40,236,140);stroke-width:4\"/><line x1=\"400\" y1=\"250\" x2=\"400.0\" y2=\"350.0\" stroke-linecap=\"round\" style=\"stroke:rgb(40,236,140);stroke-width:4\"/><line x1=\"400.0\" y1=\"350.0\" x2=\"430.902\" y2=\"345.106\" stroke-linecap=\"round\" style=\"stroke:rgb(40,236,140);stroke-width:4\"/><line x1=\"430.902\" y1=\"345.106\" x2=\"400\" y2=\"250\" stroke-linecap=\"round\" style=\"stroke:rgb(40,236,140);stroke-width:4\"/><line x1=\"400\" y1=\"250\" x2=\"400.0\" y2=\"350.0\" stroke-linecap=\"round\" style=\"stroke:rgb(10,182,250);stroke-width:4\"/><line x1=\"400.0\" y1=\"350.0\" x2=\"400\" y2=\"250\" stroke-linecap=\"round\" style=\"stroke:rgb(10,182,250);stroke-width:4\"/><line x1=\"400\" y1=\"250\" x2=\"369.098\" y2=\"345.106\" stroke-linecap=\"round\" style=\"stroke:rgb(10,182,250);stroke-width:4\"/><line x1=\"369.098\" y1=\"345.106\" x2=\"400.0\" y2=\"350.0\" stroke-linecap=\"round\" style=\"stroke:rgb(10,182,250);stroke-width:4\"/><line x1=\"400.0\" y1=\"350.0\" x2=\"400\" y2=\"250\" stroke-linecap=\"round\" style=\"stroke:rgb(10,182,250);stroke-width:4\"/><line x1=\"400\" y1=\"250\" x2=\"369.098\" y2=\"345.106\" stroke-linecap=\"round\" style=\"stroke:rgb(251,144,95);stroke-width:4\"/><line x1=\"369.098\" y1=\"345.106\" x2=\"400\" y2=\"250\" stroke-linecap=\"round\" style=\"stroke:rgb(251,144,95);stroke-width:4\"/><line x1=\"400\" y1=\"250\" x2=\"341.221\" y2=\"330.902\" stroke-linecap=\"round\" style=\"stroke:rgb(251,144,95);stroke-width:4\"/><line x1=\"341.221\" y1=\"330.902\" x2=\"369.098\" y2=\"345.106\" stroke-linecap=\"round\" style=\"stroke:rgb(251,144,95);stroke-width:4\"/><line x1=\"369.098\" y1=\"345.106\" x2=\"400\" y2=\"250\" stroke-linecap=\"round\" style=\"stroke:rgb(251,144,95);stroke-width:4\"/><line x1=\"400\" y1=\"250\" x2=\"341.221\" y2=\"330.902\" stroke-linecap=\"round\" style=\"stroke:rgb(25,48,201);stroke-width:4\"/><line x1=\"341.221\" y1=\"330.902\" x2=\"400\" y2=\"250\" stroke-linecap=\"round\" style=\"stroke:rgb(25,48,201);stroke-width:4\"/><line x1=\"400\" y1=\"250\" x2=\"319.098\" y2=\"308.779\" stroke-linecap=\"round\" style=\"stroke:rgb(25,48,201);stroke-width:4\"/><line x1=\"319.098\" y1=\"308.779\" x2=\"341.221\" y2=\"330.902\" stroke-linecap=\"round\" style=\"stroke:rgb(25,48,201);stroke-width:4\"/><line x1=\"341.221\" y1=\"330.902\" x2=\"400\" y2=\"250\" stroke-linecap=\"round\" style=\"stroke:rgb(25,48,201);stroke-width:4\"/><line x1=\"400\" y1=\"250\" x2=\"319.098\" y2=\"308.779\" stroke-linecap=\"round\" style=\"stroke:rgb(140,243,176);stroke-width:4\"/><line x1=\"319.098\" y1=\"308.779\" x2=\"400\" y2=\"250\" stroke-linecap=\"round\" style=\"stroke:rgb(140,243,176);stroke-width:4\"/><line x1=\"400\" y1=\"250\" x2=\"304.894\" y2=\"280.902\" stroke-linecap=\"round\" style=\"stroke:rgb(140,243,176);stroke-width:4\"/><line x1=\"304.894\" y1=\"280.902\" x2=\"319.098\" y2=\"308.779\" stroke-linecap=\"round\" style=\"stroke:rgb(140,243,176);stroke-width:4\"/><line x1=\"319.098\" y1=\"308.779\" x2=\"400\" y2=\"250\" stroke-linecap=\"round\" style=\"stroke:rgb(140,243,176);stroke-width:4\"/><line x1=\"400\" y1=\"250\" x2=\"304.894\" y2=\"280.902\" stroke-linecap=\"round\" style=\"stroke:rgb(196,162,78);stroke-width:4\"/><line x1=\"304.894\" y1=\"280.902\" x2=\"400\" y2=\"250\" stroke-linecap=\"round\" style=\"stroke:rgb(196,162,78);stroke-width:4\"/><line x1=\"400\" y1=\"250\" x2=\"300.0\" y2=\"250.0\" stroke-linecap=\"round\" style=\"stroke:rgb(196,162,78);stroke-width:4\"/><line x1=\"300.0\" y1=\"250.0\" x2=\"304.894\" y2=\"280.902\" stroke-linecap=\"round\" style=\"stroke:rgb(196,162,78);stroke-width:4\"/><line x1=\"304.894\" y1=\"280.902\" x2=\"400\" y2=\"250\" stroke-linecap=\"round\" style=\"stroke:rgb(196,162,78);stroke-width:4\"/><line x1=\"400\" y1=\"250\" x2=\"300.0\" y2=\"250.0\" stroke-linecap=\"round\" style=\"stroke:rgb(237,28,194);stroke-width:4\"/><line x1=\"300.0\" y1=\"250.0\" x2=\"400\" y2=\"250\" stroke-linecap=\"round\" style=\"stroke:rgb(237,28,194);stroke-width:4\"/><line x1=\"400\" y1=\"250\" x2=\"304.894\" y2=\"219.098\" stroke-linecap=\"round\" style=\"stroke:rgb(237,28,194);stroke-width:4\"/><line x1=\"304.894\" y1=\"219.098\" x2=\"300.0\" y2=\"250.0\" stroke-linecap=\"round\" style=\"stroke:rgb(237,28,194);stroke-width:4\"/><line x1=\"300.0\" y1=\"250.0\" x2=\"400\" y2=\"250\" stroke-linecap=\"round\" style=\"stroke:rgb(237,28,194);stroke-width:4\"/><line x1=\"400\" y1=\"250\" x2=\"304.894\" y2=\"219.098\" stroke-linecap=\"round\" style=\"stroke:rgb(180,202,41);stroke-width:4\"/><line x1=\"304.894\" y1=\"219.098\" x2=\"400\" y2=\"250\" stroke-linecap=\"round\" style=\"stroke:rgb(180,202,41);stroke-width:4\"/><line x1=\"400\" y1=\"250\" x2=\"319.098\" y2=\"191.221\" stroke-linecap=\"round\" style=\"stroke:rgb(180,202,41);stroke-width:4\"/><line x1=\"319.098\" y1=\"191.221\" x2=\"304.894\" y2=\"219.098\" stroke-linecap=\"round\" style=\"stroke:rgb(180,202,41);stroke-width:4\"/><line x1=\"304.894\" y1=\"219.098\" x2=\"400\" y2=\"250\" stroke-linecap=\"round\" style=\"stroke:rgb(180,202,41);stroke-width:4\"/><line x1=\"400\" y1=\"250\" x2=\"319.098\" y2=\"191.221\" stroke-linecap=\"round\" style=\"stroke:rgb(66,24,38);stroke-width:4\"/><line x1=\"319.098\" y1=\"191.221\" x2=\"400\" y2=\"250\" stroke-linecap=\"round\" style=\"stroke:rgb(66,24,38);stroke-width:4\"/><line x1=\"400\" y1=\"250\" x2=\"341.221\" y2=\"169.098\" stroke-linecap=\"round\" style=\"stroke:rgb(66,24,38);stroke-width:4\"/><line x1=\"341.221\" y1=\"169.098\" x2=\"319.098\" y2=\"191.221\" stroke-linecap=\"round\" style=\"stroke:rgb(66,24,38);stroke-width:4\"/><line x1=\"319.098\" y1=\"191.221\" x2=\"400\" y2=\"250\" stroke-linecap=\"round\" style=\"stroke:rgb(66,24,38);stroke-width:4\"/><line x1=\"400\" y1=\"250\" x2=\"341.221\" y2=\"169.098\" stroke-linecap=\"round\" style=\"stroke:rgb(48,209,72);stroke-width:4\"/><line x1=\"341.221\" y1=\"169.098\" x2=\"400\" y2=\"250\" stroke-linecap=\"round\" style=\"stroke:rgb(48,209,72);stroke-width:4\"/><line x1=\"400\" y1=\"250\" x2=\"369.098\" y2=\"154.894\" stroke-linecap=\"round\" style=\"stroke:rgb(48,209,72);stroke-width:4\"/><line x1=\"369.098\" y1=\"154.894\" x2=\"341.221\" y2=\"169.098\" stroke-linecap=\"round\" style=\"stroke:rgb(48,209,72);stroke-width:4\"/><line x1=\"341.221\" y1=\"169.098\" x2=\"400\" y2=\"250\" stroke-linecap=\"round\" style=\"stroke:rgb(48,209,72);stroke-width:4\"/><line x1=\"400\" y1=\"250\" x2=\"369.098\" y2=\"154.894\" stroke-linecap=\"round\" style=\"stroke:rgb(228,134,72);stroke-width:4\"/><line x1=\"369.098\" y1=\"154.894\" x2=\"400\" y2=\"250\" stroke-linecap=\"round\" style=\"stroke:rgb(228,134,72);stroke-width:4\"/><line x1=\"400\" y1=\"250\" x2=\"400.0\" y2=\"150.0\" stroke-linecap=\"round\" style=\"stroke:rgb(228,134,72);stroke-width:4\"/><line x1=\"400.0\" y1=\"150.0\" x2=\"369.098\" y2=\"154.894\" stroke-linecap=\"round\" style=\"stroke:rgb(228,134,72);stroke-width:4\"/><line x1=\"369.098\" y1=\"154.894\" x2=\"400\" y2=\"250\" stroke-linecap=\"round\" style=\"stroke:rgb(228,134,72);stroke-width:4\"/>\n",
              "        <g visibility=visible transform=\"rotate(360.0,400,250) translate(382, 232)\">\n",
              "<path style=\" stroke:none;fill-rule:evenodd;fill:rgb(228,134,72);fill-opacity:1;\" d=\"M 18.214844 0.632812 C 16.109375 1.800781 15.011719 4.074219 15.074219 7.132812 L 15.085938 7.652344 L 14.785156 7.496094 C 13.476562 6.824219 11.957031 6.671875 10.40625 7.066406 C 8.46875 7.550781 6.515625 9.15625 4.394531 11.992188 C 3.0625 13.777344 2.679688 14.636719 3.042969 15.027344 L 3.15625 15.152344 L 3.519531 15.152344 C 4.238281 15.152344 4.828125 14.886719 8.1875 13.039062 C 9.386719 12.378906 10.371094 11.839844 10.378906 11.839844 C 10.386719 11.839844 10.355469 11.929688 10.304688 12.035156 C 9.832031 13.09375 9.257812 14.820312 8.96875 16.078125 C 7.914062 20.652344 8.617188 24.53125 11.070312 27.660156 C 11.351562 28.015625 11.363281 27.914062 10.972656 28.382812 C 8.925781 30.84375 7.945312 33.28125 8.238281 35.1875 C 8.289062 35.527344 8.28125 35.523438 8.917969 35.523438 C 10.941406 35.523438 13.074219 34.207031 15.136719 31.6875 C 15.359375 31.417969 15.328125 31.425781 15.5625 31.574219 C 16.292969 32.042969 18.023438 32.964844 18.175781 32.964844 C 18.335938 32.964844 19.941406 32.210938 20.828125 31.71875 C 20.996094 31.625 21.136719 31.554688 21.136719 31.558594 C 21.203125 31.664062 21.898438 32.414062 22.222656 32.730469 C 23.835938 34.300781 25.5625 35.132812 27.582031 35.300781 C 27.90625 35.328125 27.9375 35.308594 28.007812 34.984375 C 28.382812 33.242188 27.625 30.925781 25.863281 28.425781 L 25.542969 27.96875 L 25.699219 27.785156 C 28.945312 23.960938 29.132812 18.699219 26.257812 11.96875 L 26.207031 11.84375 L 27.945312 12.703125 C 31.53125 14.476562 32.316406 14.800781 33.03125 14.800781 C 33.976562 14.800781 33.78125 13.9375 32.472656 12.292969 C 28.519531 7.355469 25.394531 5.925781 21.921875 7.472656 L 21.558594 7.636719 L 21.578125 7.542969 C 21.699219 6.992188 21.761719 5.742188 21.699219 5.164062 C 21.496094 3.296875 20.664062 1.964844 19.003906 0.855469 C 18.480469 0.503906 18.457031 0.5 18.214844 0.632812\"/>\n",
              "</g>\n",
              "      </svg>\n",
              "    "
            ]
          },
          "metadata": {}
        }
      ]
    },
    {
      "cell_type": "code",
      "source": [
        "import random\n",
        "\n",
        "score_win = 11\n",
        "p1_win, p2_win = 0, 0\n",
        "\n",
        "while (p1_win < score_win) and (p2_win < score_win) :\n",
        "    result = random.randint(0, 1)\n",
        "    if result == 0:\n",
        "        p1_win = p1_win + 1\n",
        "    elif result == 1:\n",
        "        p2_win = p2_win + 1\n",
        "    print(p1_win, p2_win)\n",
        "    # if (p1_win == score_win) or (p2_win == score_win):\n",
        "    #     break\n",
        "if p1_win > p2_win:\n",
        "    print(\"player 1 win\")\n",
        "else:\n",
        "    print(\"player 2 win\")"
      ],
      "metadata": {
        "colab": {
          "base_uri": "https://localhost:8080/"
        },
        "id": "0e7lMNO60hK5",
        "outputId": "2ae15287-7074-46e0-dab0-1acc7d789ad9"
      },
      "execution_count": null,
      "outputs": [
        {
          "output_type": "stream",
          "name": "stdout",
          "text": [
            "0 1\n",
            "1 1\n",
            "2 1\n",
            "3 1\n",
            "4 1\n",
            "4 2\n",
            "5 2\n",
            "6 2\n",
            "7 2\n",
            "7 3\n",
            "7 4\n",
            "8 4\n",
            "9 4\n",
            "9 5\n",
            "10 5\n",
            "11 5\n",
            "player 1 win\n"
          ]
        }
      ]
    },
    {
      "cell_type": "code",
      "source": [
        "import random\n",
        "\n",
        "# add deuce\n",
        "score_win = 4\n",
        "p1_win, p2_win = 0, 0\n",
        "\n",
        "# while True+break\n",
        "# 1. 判斷點自由\n",
        "# 2. 收尾很自由(break)\n",
        "# 3. (隱藏) 中文會比較好說\n",
        "\n",
        "while True:\n",
        "    result = random.randint(0, 1)\n",
        "    if result == 0:\n",
        "        p1_win = p1_win + 1\n",
        "    elif result == 1:\n",
        "        p2_win = p2_win + 1\n",
        "    print(p1_win, p2_win)\n",
        "    # 有任何一個人贏過分數線了\n",
        "    if (p1_win >= score_win) or (p2_win >= score_win):\n",
        "        # 但分數差值<=1\n",
        "        if abs(p1_win-p2_win) <= 1:\n",
        "            print(\"no winner(deuce)\")\n",
        "        else:\n",
        "            print(\"game over\")\n",
        "            break\n",
        "    else:\n",
        "        print(\"no winner\")"
      ],
      "metadata": {
        "colab": {
          "base_uri": "https://localhost:8080/"
        },
        "id": "XLtjlW1--oTA",
        "outputId": "1947eab1-b05d-41af-db23-ac09d2e5610a"
      },
      "execution_count": null,
      "outputs": [
        {
          "output_type": "stream",
          "name": "stdout",
          "text": [
            "0 1\n",
            "0 2\n",
            "1 2\n",
            "1 3\n",
            "2 3\n",
            "3 3\n",
            "4 3\n",
            "player 1 win\n"
          ]
        }
      ]
    },
    {
      "cell_type": "code",
      "source": [
        "# 1700000000\n",
        "# Tue Nov 14 2023 22:13:20 GMT+0000\n",
        "\n",
        "timestamp = 1700000000\n",
        "year = 1970\n",
        "while True:\n",
        "    if year % 400 == 0:\n",
        "        is_leapyear = True\n",
        "    elif year % 100 == 0:\n",
        "        is_leapyear = False\n",
        "    elif year % 4 == 0:\n",
        "        is_leapyear = True\n",
        "    else:\n",
        "        is_leapyear = False\n",
        "    if is_leapyear == True:\n",
        "        year_day = 366\n",
        "    else:\n",
        "        year_day = 365\n",
        "    year_second = year_day * 24 * 60 * 60\n",
        "    if timestamp < year_second:\n",
        "        print(\"已經不夠減了, 答案就是這個年:\", year)\n",
        "        break\n",
        "    else:\n",
        "        timestamp = timestamp - year_second\n",
        "        year = year + 1\n",
        "\n",
        "\n",
        "# 把這秒數跟每一個月的總秒數相減, 如果無法相減(比較小)那就要停下來\n",
        "day_per_month = [31, 28, 31, 30, 31, 30, 31, 31, 30, 31, 30, 31]\n",
        "i = 0\n",
        "while i < 12:\n",
        "    month = i + 1\n",
        "    month_day = day_per_month[i]\n",
        "    if month == 2 and is_leapyear == True:\n",
        "        month_day = month_day + 1\n",
        "    month_second = month_day * 24 * 60 * 60\n",
        "    if timestamp < month_second:\n",
        "        print(\"已經不夠減了, 答案就是這個月:\", month)\n",
        "        break\n",
        "    else:\n",
        "        timestamp = timestamp - month_second\n",
        "    i = i + 1\n",
        "\n",
        "# 剩下的直接/每一天的秒數\n",
        "day_second = 24 * 60 * 60\n",
        "# 數數=0, 表示才有可能要多+1\n",
        "day = timestamp // day_second + 1\n",
        "timestamp = timestamp % day_second\n",
        "\n",
        "hr_second = 60 * 60\n",
        "hr = timestamp // hr_second\n",
        "timestamp = timestamp % hr_second\n",
        "\n",
        "min_second = 60\n",
        "min = timestamp // min_second\n",
        "timestamp = timestamp % min_second\n",
        "\n",
        "sec = timestamp\n",
        "\n",
        "print(year, month, day, hr, min, sec)"
      ],
      "metadata": {
        "colab": {
          "base_uri": "https://localhost:8080/"
        },
        "id": "s3neE0wiGT4Q",
        "outputId": "9a8d3c27-828b-446f-8893-c09ba6810096"
      },
      "execution_count": null,
      "outputs": [
        {
          "output_type": "stream",
          "name": "stdout",
          "text": [
            "已經不夠減了, 答案就是這個年: 2023\n",
            "已經不夠減了, 答案就是這個月: 11\n",
            "2023 11 14 22 13 20\n"
          ]
        }
      ]
    },
    {
      "cell_type": "code",
      "source": [
        "test = [\n",
        "    [2.1, 2.2],\n",
        "    [3.1, 3.2],\n",
        "    [4.1, 4.2]\n",
        "]\n",
        "test[0][1]"
      ],
      "metadata": {
        "id": "IaeNdOzwP1x1"
      },
      "execution_count": null,
      "outputs": []
    },
    {
      "cell_type": "code",
      "source": [
        "# 優點: 擴充性\n",
        "board = [\n",
        "    [1, 1, 1],\n",
        "    [2, 2, 2],\n",
        "    [0, 0, 0]\n",
        "]\n",
        "#\n",
        "i = 0\n",
        "while i < 3:\n",
        "    first = board[i][0]\n",
        "    # 如果有下\n",
        "    if not first == 0:\n",
        "        # check 01 02\n",
        "        winner = True\n",
        "        j = 0\n",
        "        while j < 3:\n",
        "            pos = board[i][j]\n",
        "            if not pos == first:\n",
        "                winner = False\n",
        "            j = j + 1\n",
        "        if winner == True:\n",
        "            print(i, \"win\")\n",
        "    i = i + 1"
      ],
      "metadata": {
        "id": "1bkHmWhH2TgD"
      },
      "execution_count": null,
      "outputs": []
    },
    {
      "cell_type": "code",
      "source": [
        "# 優點:可讀性\n",
        "# 我選了這個\n",
        "board = [\n",
        "    [1, 1, 1],\n",
        "    [2, 2, 2],\n",
        "    [0, 0, 0]\n",
        "]\n",
        "\n",
        "i = 0\n",
        "while i < 3:\n",
        "    if not board[i][0] == 0:\n",
        "        if board[i][0] == board[i][1] == board[i][2]:\n",
        "            print(i, \"win\")\n",
        "    i = i + 1"
      ],
      "metadata": {
        "colab": {
          "base_uri": "https://localhost:8080/"
        },
        "id": "s3lPMrIf2V7K",
        "outputId": "401f094a-5a83-46a9-a578-0332964419be"
      },
      "execution_count": null,
      "outputs": [
        {
          "output_type": "stream",
          "name": "stdout",
          "text": [
            "0 win\n",
            "1 win\n"
          ]
        }
      ]
    },
    {
      "cell_type": "code",
      "source": [
        "# 優點:可讀性\n",
        "# 我選了這個\n",
        "board = [\n",
        "    [1, 2, 0],\n",
        "    [1, 2, 0],\n",
        "    [1, 2, 0]\n",
        "]\n",
        "# [0][0] [1][0] [2][0]\n",
        "i = 0\n",
        "while i < 3:\n",
        "    if not board[0][i] == 0:\n",
        "        if board[0][i] == board[1][i] == board[2][i]:\n",
        "            print(i, \"win\")\n",
        "    i = i + 1"
      ],
      "metadata": {
        "colab": {
          "base_uri": "https://localhost:8080/"
        },
        "id": "LlViVAPt7dgv",
        "outputId": "82a89b6a-44de-4277-bf1d-7144843f5521"
      },
      "execution_count": null,
      "outputs": [
        {
          "output_type": "stream",
          "name": "stdout",
          "text": [
            "0 win\n",
            "1 win\n"
          ]
        }
      ]
    },
    {
      "cell_type": "code",
      "source": [
        "board = [\n",
        "    [0, 0, 1],\n",
        "    [0, 1, 0],\n",
        "    [1, 0, 0]\n",
        "]\n",
        "\n",
        "# [0][0] [1][1] [2][2]\n",
        "# [0][2] [1][1] [2][0]\n",
        "\n",
        "if board[0][0] == board[1][1] == board[2][2]:\n",
        "    print(\"left win\")\n",
        "if board[0][2] == board[1][1] == board[2][0]:\n",
        "    print(\"right win\")"
      ],
      "metadata": {
        "colab": {
          "base_uri": "https://localhost:8080/"
        },
        "id": "lp8vWbJnCLaS",
        "outputId": "994c4bdb-fd47-4c76-b0a6-360b1020c867"
      },
      "execution_count": null,
      "outputs": [
        {
          "output_type": "stream",
          "name": "stdout",
          "text": [
            "right win\n"
          ]
        }
      ]
    },
    {
      "cell_type": "code",
      "source": [
        "REPR = [\"_\", \"O\", \"X\"]\n",
        "\n",
        "board = [\n",
        "    [0, 2, 1],\n",
        "    [0, 1, 0],\n",
        "    [1, 2, 1]\n",
        "]\n",
        "# 先把裡面寫出來 再重複三次\n",
        "i = 0\n",
        "while i < 3:\n",
        "    line = \"\"\n",
        "    row = i\n",
        "    j = 0\n",
        "    while j < 3:\n",
        "        col = j\n",
        "        pos = board[row][col]\n",
        "        line = line + REPR[pos] + \" \"\n",
        "        j = j + 1\n",
        "    print(line)\n",
        "    i = i + 1"
      ],
      "metadata": {
        "colab": {
          "base_uri": "https://localhost:8080/"
        },
        "id": "mDHLpOsnEGmQ",
        "outputId": "e65e28c1-7c31-42da-de61-2e714d4a4fb5"
      },
      "execution_count": null,
      "outputs": [
        {
          "output_type": "stream",
          "name": "stdout",
          "text": [
            "_ X O \n",
            "_ O _ \n",
            "O X O \n"
          ]
        }
      ]
    },
    {
      "cell_type": "code",
      "source": [
        "import random\n",
        "# input的回傳值是字串型態!!!\n",
        "PLAYER_1 = 1\n",
        "PLAYER_2 = 2\n",
        "REPR = [\"_\", \"O\", \"X\"]\n",
        "\n",
        "\n",
        "board = [\n",
        "    [0, 0, 0],\n",
        "    [0, 0, 0],\n",
        "    [0, 0, 0]\n",
        "]\n",
        "round = 0\n",
        "\n",
        "while True:\n",
        "    while True:\n",
        "        if round % 2 == 0:\n",
        "            row = int(input(\"? row:\"))\n",
        "            col = int(input(\"? col:\"))\n",
        "        else:\n",
        "            row = random.randint(0, 2)\n",
        "            col = random.randint(0, 2)\n",
        "\n",
        "        if row < 0 or row > 2:\n",
        "            print(\"invalid pos\")\n",
        "        elif col < 0 or col > 2:\n",
        "            print(\"invalid pos\")\n",
        "        elif not board[row][col] == 0:\n",
        "            print(\"already occupied\")\n",
        "        else:\n",
        "            break\n",
        "\n",
        "    if round % 2 == 0:\n",
        "        board[row][col] = PLAYER_1\n",
        "    else:\n",
        "        board[row][col] = PLAYER_2\n",
        "\n",
        "    round = round + 1\n",
        "\n",
        "    # print pretty\n",
        "    i = 0\n",
        "    while i < 3:\n",
        "        line = \"\"\n",
        "        row = i\n",
        "        j = 0\n",
        "        while j < 3:\n",
        "            col = j\n",
        "            pos = board[row][col]\n",
        "            line = line + REPR[pos] + \" \"\n",
        "            j = j + 1\n",
        "        print(line)\n",
        "        i = i + 1\n",
        "    print(\"-\" * 10)\n",
        "\n",
        "    # row check\n",
        "    i = 0\n",
        "    while i < 3:\n",
        "        if not board[i][0] == 0:\n",
        "            if board[i][0] == board[i][1] == board[i][2]:\n",
        "                print(i, \"win\")\n",
        "                board = [\n",
        "                    [0, 0, 0],\n",
        "                    [0, 0, 0],\n",
        "                    [0, 0, 0]\n",
        "                ]\n",
        "                round = 0\n",
        "        i = i + 1\n",
        "\n",
        "    # col check\n",
        "    i = 0\n",
        "    while i < 3:\n",
        "        # [0][0] [1][0] [2][0]\n",
        "        if not board[0][i] == 0:\n",
        "            if board[0][i] == board[1][i] == board[2][i]:\n",
        "                print(i, \"win\")\n",
        "                board = [\n",
        "                    [0, 0, 0],\n",
        "                    [0, 0, 0],\n",
        "                    [0, 0, 0]\n",
        "                ]\n",
        "                round = 0\n",
        "        i = i + 1\n",
        "\n",
        "    # 斜線check\n",
        "    if not board[1][1] == 0:\n",
        "        if board[0][0] == board[1][1] == board[2][2]:\n",
        "            print(\"left win\")\n",
        "            board = [\n",
        "                [0, 0, 0],\n",
        "                [0, 0, 0],\n",
        "                [0, 0, 0]\n",
        "            ]\n",
        "            round = 0\n",
        "        if board[0][2] == board[1][1] == board[2][0]:\n",
        "            print(\"right win\")\n",
        "            board = [\n",
        "                [0, 0, 0],\n",
        "                [0, 0, 0],\n",
        "                [0, 0, 0]\n",
        "            ]\n",
        "            round = 0"
      ],
      "metadata": {
        "colab": {
          "base_uri": "https://localhost:8080/",
          "height": 373
        },
        "id": "oFmHVkxELd04",
        "outputId": "cb8de7f5-a6ec-472f-8905-e80d299dfea2"
      },
      "execution_count": null,
      "outputs": [
        {
          "output_type": "error",
          "ename": "KeyboardInterrupt",
          "evalue": "Interrupted by user",
          "traceback": [
            "\u001b[0;31m---------------------------------------------------------------------------\u001b[0m",
            "\u001b[0;31mKeyboardInterrupt\u001b[0m                         Traceback (most recent call last)",
            "\u001b[0;32m/tmp/ipython-input-81-3561542013.py\u001b[0m in \u001b[0;36m<cell line: 0>\u001b[0;34m()\u001b[0m\n\u001b[1;32m     16\u001b[0m     \u001b[0;32mwhile\u001b[0m \u001b[0;32mTrue\u001b[0m\u001b[0;34m:\u001b[0m\u001b[0;34m\u001b[0m\u001b[0;34m\u001b[0m\u001b[0m\n\u001b[1;32m     17\u001b[0m         \u001b[0;32mif\u001b[0m \u001b[0mround\u001b[0m \u001b[0;34m%\u001b[0m \u001b[0;36m2\u001b[0m \u001b[0;34m==\u001b[0m \u001b[0;36m0\u001b[0m\u001b[0;34m:\u001b[0m\u001b[0;34m\u001b[0m\u001b[0;34m\u001b[0m\u001b[0m\n\u001b[0;32m---> 18\u001b[0;31m             \u001b[0mrow\u001b[0m \u001b[0;34m=\u001b[0m \u001b[0mint\u001b[0m\u001b[0;34m(\u001b[0m\u001b[0minput\u001b[0m\u001b[0;34m(\u001b[0m\u001b[0;34m\"? row:\"\u001b[0m\u001b[0;34m)\u001b[0m\u001b[0;34m)\u001b[0m\u001b[0;34m\u001b[0m\u001b[0;34m\u001b[0m\u001b[0m\n\u001b[0m\u001b[1;32m     19\u001b[0m             \u001b[0mcol\u001b[0m \u001b[0;34m=\u001b[0m \u001b[0mint\u001b[0m\u001b[0;34m(\u001b[0m\u001b[0minput\u001b[0m\u001b[0;34m(\u001b[0m\u001b[0;34m\"? col:\"\u001b[0m\u001b[0;34m)\u001b[0m\u001b[0;34m)\u001b[0m\u001b[0;34m\u001b[0m\u001b[0;34m\u001b[0m\u001b[0m\n\u001b[1;32m     20\u001b[0m         \u001b[0;32melse\u001b[0m\u001b[0;34m:\u001b[0m\u001b[0;34m\u001b[0m\u001b[0;34m\u001b[0m\u001b[0m\n",
            "\u001b[0;32m/usr/local/lib/python3.11/dist-packages/ipykernel/kernelbase.py\u001b[0m in \u001b[0;36mraw_input\u001b[0;34m(self, prompt)\u001b[0m\n\u001b[1;32m   1175\u001b[0m                 \u001b[0;34m\"raw_input was called, but this frontend does not support input requests.\"\u001b[0m\u001b[0;34m\u001b[0m\u001b[0;34m\u001b[0m\u001b[0m\n\u001b[1;32m   1176\u001b[0m             )\n\u001b[0;32m-> 1177\u001b[0;31m         return self._input_request(\n\u001b[0m\u001b[1;32m   1178\u001b[0m             \u001b[0mstr\u001b[0m\u001b[0;34m(\u001b[0m\u001b[0mprompt\u001b[0m\u001b[0;34m)\u001b[0m\u001b[0;34m,\u001b[0m\u001b[0;34m\u001b[0m\u001b[0;34m\u001b[0m\u001b[0m\n\u001b[1;32m   1179\u001b[0m             \u001b[0mself\u001b[0m\u001b[0;34m.\u001b[0m\u001b[0m_parent_ident\u001b[0m\u001b[0;34m[\u001b[0m\u001b[0;34m\"shell\"\u001b[0m\u001b[0;34m]\u001b[0m\u001b[0;34m,\u001b[0m\u001b[0;34m\u001b[0m\u001b[0;34m\u001b[0m\u001b[0m\n",
            "\u001b[0;32m/usr/local/lib/python3.11/dist-packages/ipykernel/kernelbase.py\u001b[0m in \u001b[0;36m_input_request\u001b[0;34m(self, prompt, ident, parent, password)\u001b[0m\n\u001b[1;32m   1217\u001b[0m             \u001b[0;32mexcept\u001b[0m \u001b[0mKeyboardInterrupt\u001b[0m\u001b[0;34m:\u001b[0m\u001b[0;34m\u001b[0m\u001b[0;34m\u001b[0m\u001b[0m\n\u001b[1;32m   1218\u001b[0m                 \u001b[0;31m# re-raise KeyboardInterrupt, to truncate traceback\u001b[0m\u001b[0;34m\u001b[0m\u001b[0;34m\u001b[0m\u001b[0m\n\u001b[0;32m-> 1219\u001b[0;31m                 \u001b[0;32mraise\u001b[0m \u001b[0mKeyboardInterrupt\u001b[0m\u001b[0;34m(\u001b[0m\u001b[0;34m\"Interrupted by user\"\u001b[0m\u001b[0;34m)\u001b[0m \u001b[0;32mfrom\u001b[0m \u001b[0;32mNone\u001b[0m\u001b[0;34m\u001b[0m\u001b[0;34m\u001b[0m\u001b[0m\n\u001b[0m\u001b[1;32m   1220\u001b[0m             \u001b[0;32mexcept\u001b[0m \u001b[0mException\u001b[0m\u001b[0;34m:\u001b[0m\u001b[0;34m\u001b[0m\u001b[0;34m\u001b[0m\u001b[0m\n\u001b[1;32m   1221\u001b[0m                 \u001b[0mself\u001b[0m\u001b[0;34m.\u001b[0m\u001b[0mlog\u001b[0m\u001b[0;34m.\u001b[0m\u001b[0mwarning\u001b[0m\u001b[0;34m(\u001b[0m\u001b[0;34m\"Invalid Message:\"\u001b[0m\u001b[0;34m,\u001b[0m \u001b[0mexc_info\u001b[0m\u001b[0;34m=\u001b[0m\u001b[0;32mTrue\u001b[0m\u001b[0;34m)\u001b[0m\u001b[0;34m\u001b[0m\u001b[0;34m\u001b[0m\u001b[0m\n",
            "\u001b[0;31mKeyboardInterrupt\u001b[0m: Interrupted by user"
          ]
        }
      ]
    }
  ]
}