{
 "cells": [
  {
   "cell_type": "markdown",
   "id": "4972d74696b71d0f",
   "metadata": {},
   "source": [
    "# BMI程式"
   ]
  },
  {
   "cell_type": "code",
   "execution_count": 1,
   "id": "initial_id",
   "metadata": {
    "ExecuteTime": {
     "end_time": "2025-10-07T07:31:55.747480Z",
     "start_time": "2025-10-07T07:31:46.376882Z"
    },
    "collapsed": true
   },
   "outputs": [
    {
     "name": "stdout",
     "output_type": "stream",
     "text": [
      "你的體重是:50.0，身高是:100.0，bmi是:50.0\n",
      "過重\n"
     ]
    }
   ],
   "source": [
    "# bmi:weight(kg) / height(m) ^ 2\n",
    "# bmi 計算公式: 體重 (kg) / 身高 (m) 的平方\n",
    "weight = float(input(\"請輸入體重\"))  # 輸入體重，並將其轉換為浮點數\n",
    "height = float(input(\"請輸入身高\"))  # 輸入身高，並將其轉換為浮點數\n",
    "bmi = (weight / (height / 100)**2)  # 根據身高（以公尺為單位）和體重計算BMI，身高需要先轉換成公尺\n",
    "print(f\"你的體重是:{weight}，身高是:{height}，bmi是:{bmi}\")  # 顯示體重、身高和計算出的BMI\n",
    "\n",
    "if bmi > 25:  # 如果BMI大於25\n",
    "    print(\"過重\")  # 輸出過重\n",
    "else:  # 否則\n",
    "    print(\"正常\")  # 輸出正常"
   ]
  },
  {
   "cell_type": "markdown",
   "id": "3345ebf2789be75e",
   "metadata": {},
   "source": [
    "# 剪刀石頭布程式"
   ]
  },
  {
   "cell_type": "code",
   "execution_count": 4,
   "id": "89ed2161cbbc591f",
   "metadata": {
    "ExecuteTime": {
     "end_time": "2025-10-08T07:33:47.350894Z",
     "start_time": "2025-10-08T07:33:42.769384Z"
    }
   },
   "outputs": [
    {
     "name": "stdout",
     "output_type": "stream",
     "text": [
      "你出了: 剪刀\n",
      "電腦出了: 剪刀\n",
      "結果: 平手\n"
     ]
    }
   ],
   "source": [
    "# 猜拳\n",
    "import random  # 載入random模組，用來產生隨機數字\n",
    "\n",
    "trans = [\"剪刀\", \"石頭\", \"布\"]  # 定義一個列表，包含遊戲的三種選項\n",
    "\n",
    "my = int(input(\"請輸入0.剪刀 1.石頭 2.布: \"))  # 提示使用者輸入選擇，並將輸入轉換為整數\n",
    "com = random.randint(0, 2)  # 使用random.randint隨機選擇電腦的選項，範圍是0到2\n",
    "\n",
    "print(f\"你出了: {trans[my]}\")  # 顯示使用者選擇的選項\n",
    "print(f\"電腦出了: {trans[com]}\")  # 顯示電腦選擇的選項\n",
    "\n",
    "# 判斷使用者是否贏了\n",
    "if my == (com + 1) % 3:  # 如果使用者的選項比電腦的選項多1（模3運算）\n",
    "    print(\"結果: 你贏了!\")  # 使用者贏了\n",
    "# 判斷使用者是否輸了\n",
    "elif com == (my + 1) % 3:  # 如果電腦的選項比使用者的選項多1（模3運算）\n",
    "    print(\"結果: 你輸了!\")  # 使用者輸了\n",
    "else:  # 如果不符合以上兩個條件，則代表平手\n",
    "    print(\"結果: 平手\")  # 顯示平手\n"
   ]
  },
  {
   "cell_type": "markdown",
   "id": "62ec843124ac79fd",
   "metadata": {},
   "source": [
    "# 迴圈第一章"
   ]
  },
  {
   "cell_type": "code",
   "execution_count": null,
   "id": "355e40c0dd024b1e",
   "metadata": {
    "ExecuteTime": {
     "end_time": "2025-10-17T07:55:24.814095Z",
     "start_time": "2025-10-17T07:55:24.810095Z"
    }
   },
   "outputs": [
    {
     "name": "stdout",
     "output_type": "stream",
     "text": [
      "0 5 87 10 87\n",
      "1 6 86 15 84\n",
      "2 7 85 20 81\n",
      "3 8 84 25 78\n",
      "4 9 83 30 75\n",
      "5 10 82 35 72\n",
      "6 11 81 40 69\n",
      "7 12 80 45 66\n",
      "8 13 79 50 63\n",
      "9 14 78 55 60\n"
     ]
    }
   ],
   "source": [
    "# 固定次數迴圈\n",
    "i = 0  # 初始化變數 i，並設定初始值為 0\n",
    "while i < 10:  # 當 i 小於 10 時，重複執行以下區塊（迴圈會跑10次，從 i=0 到 i=9）\n",
    "    print(i,            # 印出目前的 i\n",
    "          i + 5,        # 印出 i 加 5 的結果\n",
    "          87 - i,       # 印出 87 減去 i 的結果\n",
    "          5 * i + 10,   # 印出 5 乘以 i 再加 10 的結果\n",
    "          87 - 3 * i)   # 印出 87 減去 3 乘以 i 的結果\n",
    "    i = i + 1  # 將 i 加 1，進入下一次的迴圈"
   ]
  },
  {
   "cell_type": "code",
   "execution_count": 21,
   "id": "2949d7b19a05de96",
   "metadata": {
    "ExecuteTime": {
     "end_time": "2025-10-08T07:58:19.142668Z",
     "start_time": "2025-10-08T07:58:19.139669Z"
    }
   },
   "outputs": [
    {
     "name": "stdout",
     "output_type": "stream",
     "text": [
      "*\n",
      "**\n",
      "***\n",
      "****\n",
      "*****\n"
     ]
    }
   ],
   "source": [
    "i = 0\n",
    "while i < 5:\n",
    "    print(\"*\" * (i + 1))  # 每次印出 (i+1) 個星號\n",
    "    i = i + 1"
   ]
  },
  {
   "cell_type": "code",
   "execution_count": 23,
   "id": "d4a169233217cd09",
   "metadata": {
    "ExecuteTime": {
     "end_time": "2025-10-17T07:57:11.791210Z",
     "start_time": "2025-10-17T07:57:11.786492Z"
    }
   },
   "outputs": [
    {
     "name": "stdout",
     "output_type": "stream",
     "text": [
      "         *\n",
      "        **\n",
      "       ***\n",
      "      ****\n",
      "     *****\n",
      "    ******\n",
      "   *******\n",
      "  ********\n",
      " *********\n",
      "**********\n",
      "**********\n",
      " *********\n",
      "  ********\n",
      "   *******\n",
      "    ******\n",
      "     *****\n",
      "      ****\n",
      "       ***\n",
      "        **\n",
      "         *\n"
     ]
    }
   ],
   "source": [
    "left, right = \" \",\"*\"  # 設定兩個變數，left 是空格字元，right 是星號字元\n",
    "\n",
    "layer = 10  # 設定三角形的層數（高為 10 層）\n",
    "i = 0       # 初始化變數 i，用來控制 while 迴圈\n",
    "# 第 1 部分：印出右對齊的三角形\n",
    "while i < layer:  # 當 i 小於 layer 時執行（從第 0 層印到第 9 層）\n",
    "    lcount = layer - i - 1   # 計算這一層需要的空格數（隨著 i 增加而減少）\n",
    "    rcount = i + 1           # 計算這一層需要的星號數（隨著 i 增加而增加）\n",
    "    print(left * lcount + right * rcount)  # 先印出空格，再接著印出星號，形成右對齊\n",
    "    i = i + 1  # 每次執行完都讓 i 增加 1，進入下一層\n",
    "\n",
    "i = 0  # 重新把 i 設為 0，準備印出第二個三角形\n",
    "# 第 2 部分：印出左對齊的倒三角形\n",
    "while i < layer:  # 同樣跑 10 次\n",
    "    lcount = i             # 空格數會隨著 i 增加（越下面越右縮）\n",
    "    rcount = layer - i     # 星號數會隨著 i 減少（越下面越短）\n",
    "    print(left * lcount + right * rcount)  # 印出左側空格 + 星號，形成左對齊倒三角形\n",
    "    i = i + 1  # 每次執行完都讓 i 增加 1"
   ]
  },
  {
   "cell_type": "code",
   "execution_count": 24,
   "id": "ec46a1866a85826a",
   "metadata": {
    "ExecuteTime": {
     "end_time": "2025-10-17T07:58:33.118908Z",
     "start_time": "2025-10-17T07:58:30.011079Z"
    }
   },
   "outputs": [
    {
     "name": "stdout",
     "output_type": "stream",
     "text": [
      "*********\n",
      " ******* \n",
      "  *****  \n",
      "   ***   \n",
      "    *    \n"
     ]
    }
   ],
   "source": [
    "l, m, r = \" \",\"*\",\" \" # 分別定義左邊、星號區、右邊的字元：l 是空格，m 是星號，r 也是空格（其實和 l 一樣）\n",
    "layer = int(input()) # 從使用者輸入層數，轉換為整數，這會決定三角形的高度和寬度\n",
    "i = 0 # 初始化迴圈變數 i，控制目前印到第幾層\n",
    "while i < layer:  # 只要 i 小於層數，就持續執行（從第0層到第layer-1層）\n",
    "    lcount = i  # 左邊空格數等於目前層數 i（每往下一層左邊空格會增加1）\n",
    "    mcount = (layer * 2 - 1) - i*2\n",
    "    # 星號數量從最大開始，每層減少2個\n",
    "    # 最上層：layer*2 - 1 顆星（等腰三角形的最大寬度）\n",
    "    # 每往下一層少2顆\n",
    "    rcount = i  # 右邊空格數等於目前層數 i（對稱於左邊）\n",
    "    # 印出：左空格 + 星號 + 右空格，組成一層倒三角形\n",
    "    print(l * lcount + m * mcount + r * rcount)\n",
    "    i = i + 1  # i 增加 1，進入下一層"
   ]
  },
  {
   "cell_type": "markdown",
   "id": "1d4481b5ccb443f9",
   "metadata": {},
   "source": [
    "# 迴圈第二章"
   ]
  },
  {
   "cell_type": "code",
   "execution_count": null,
   "id": "a5523fb6b195979",
   "metadata": {},
   "outputs": [],
   "source": [
    "# 記憶型迴圈\n",
    "# 記憶體一定要準備在迴圈外，才不會每次都重製\n",
    "total = 0\n",
    "i = 0\n",
    "while i < 10:\n",
    "    # 目前累積(6) + 這次要加(4) -> 設定回去\n",
    "    total = total + (i + 1)\n",
    "    print(total)\n",
    "    i = i + 1\n",
    "print(f\"total:{total}\")"
   ]
  },
  {
   "cell_type": "code",
   "execution_count": 7,
   "id": "244cb8917b1881da",
   "metadata": {
    "ExecuteTime": {
     "end_time": "2025-10-17T06:39:48.829905Z",
     "start_time": "2025-10-17T06:39:48.825905Z"
    }
   },
   "outputs": [
    {
     "name": "stdout",
     "output_type": "stream",
     "text": [
      "0.2857142857\n"
     ]
    }
   ],
   "source": [
    "# 除法\n",
    "# 1.補0(*10) 2.取商(//) 3.取餘(%)\n",
    "# 2 / 7 = 0.2857142857\n",
    "a = 2\n",
    "b = 7\n",
    "ans = \"0.\"\n",
    "\n",
    "i  = 0\n",
    "while i < 10:\n",
    "    c = (a * 10) // b\n",
    "    a = (a * 10) % b\n",
    "    ans = ans + str(c)\n",
    "    i = i + 1\n",
    "print(ans)"
   ]
  },
  {
   "cell_type": "code",
   "execution_count": 8,
   "id": "20f77af8321a7ab",
   "metadata": {
    "ExecuteTime": {
     "end_time": "2025-10-17T06:47:51.004327Z",
     "start_time": "2025-10-17T06:47:50.999326Z"
    }
   },
   "outputs": [
    {
     "name": "stdout",
     "output_type": "stream",
     "text": [
      "-2 0\n"
     ]
    }
   ],
   "source": [
    "# 機器人移動\n",
    "# U:上 D:下 L:左 R:右\n",
    "x, y = 0, 0\n",
    "commands = \"ULLRDL\"\n",
    "# x = -2,y = 0\n",
    "\n",
    "i = 0\n",
    "#         長度永遠用len\n",
    "while i < len(commands):\n",
    "    if commands[i] == \"U\":\n",
    "        y = y + 1\n",
    "    elif commands[i] == \"D\":\n",
    "        y = y - 1\n",
    "    elif commands[i] == \"L\":\n",
    "        x = x - 1\n",
    "#   不要用else 如果使用者打錯也會進else\n",
    "    elif commands[i] == \"R\":\n",
    "        x = x + 1\n",
    "    i = i + 1\n",
    "print(x,y)"
   ]
  },
  {
   "cell_type": "code",
   "execution_count": 21,
   "id": "11dd26c35f6cb0c8",
   "metadata": {
    "ExecuteTime": {
     "end_time": "2025-10-17T07:50:06.231201Z",
     "start_time": "2025-10-17T07:50:05.708893Z"
    }
   },
   "outputs": [
    {
     "name": "stdout",
     "output_type": "stream",
     "text": [
      "3.140752\n"
     ]
    }
   ],
   "source": [
    "# 蒙地卡羅法練習\n",
    "import random\n",
    "\n",
    "# 計算多少個在圓裡面\n",
    "count = 0\n",
    "# 次數(越多越準)\n",
    "total = 1000000\n",
    "i = 0\n",
    "while i < total:\n",
    "    # 對於這次生成隨機浮點數 a <= N <= b\n",
    "    x = random.uniform(-1, 1)\n",
    "    y = random.uniform(-1, 1)\n",
    "    # 如果這座標在圓內，累積次數+1(在點上也算)\n",
    "    if x ** 2 + y ** 2 <= 1:\n",
    "        count = count + 1\n",
    "    i = i + 1\n",
    "\n",
    "# 圓裡 / 全部 * 參照物面積\n",
    "# 比例\n",
    "ratio = count / total\n",
    "# (1 - -1) * (1 - -1) = 4(正方形面積)\n",
    "print(ratio * 4)"
   ]
  },
  {
   "cell_type": "markdown",
   "id": "a769557f",
   "metadata": {},
   "source": [
    "# 迴圈第三章"
   ]
  },
  {
   "cell_type": "code",
   "execution_count": null,
   "id": "24b11f75",
   "metadata": {},
   "outputs": [],
   "source": [
    "# 其他條件型迴圈(while True)\n",
    "# 初代版本\n",
    "import random\n",
    "\n",
    "win,lose = 0, 0\n",
    "# 我還沒贏三次，而且對手也還沒贏三次\n",
    "while win < 3 and lose < 3:\n",
    "    # -1:lose 0:even 1:win\n",
    "    result = random.randint(-1,1)\n",
    "    print(result)\n",
    "    if result == -1:\n",
    "        lose = lose + 1\n",
    "    elif result == 1:\n",
    "        win = win + 1\n",
    "if win > lose:\n",
    "    print(\"你贏了\")\n",
    "else:\n",
    "    print(\"你輸了\")"
   ]
  },
  {
   "cell_type": "code",
   "execution_count": null,
   "id": "e785ae7c",
   "metadata": {},
   "outputs": [
    {
     "name": "stdout",
     "output_type": "stream",
     "text": [
      "-1\n",
      "1\n",
      "1\n",
      "1\n",
      "你贏了\n"
     ]
    }
   ],
   "source": [
    "# 改良版本(無窮迴圈)\n",
    "# 優點1.非常自由，可以隨時結束迴圈\n",
    "# 優點2.在break之前要做的任何收尾工作都可以(印出or關閉)\n",
    "# 優點3.有時候說結束會比較容易寫出來\n",
    "import random\n",
    "\n",
    "win,lose = 0, 0\n",
    "while True:\n",
    "    # -1:lose 0:even 1:win\n",
    "    result = random.randint(-1,1)\n",
    "    print(result)\n",
    "    if result == -1:\n",
    "        lose = lose + 1\n",
    "    elif result == 1:\n",
    "        win = win + 1\n",
    "    # 判斷\n",
    "    if win == 3:\n",
    "        print(\"你贏了\")\n",
    "        break\n",
    "    if lose == 3:\n",
    "        print(\"你輸了\")\n",
    "        break"
   ]
  },
  {
   "cell_type": "code",
   "execution_count": 10,
   "id": "9e59461c",
   "metadata": {},
   "outputs": [
    {
     "name": "stdout",
     "output_type": "stream",
     "text": [
      "0.2857142857\n"
     ]
    }
   ],
   "source": [
    "# 除法(印出10位小數，並增加提早停止機制)\n",
    "# 1.補0(*10) 2.取商(//) 3.取餘(%)\n",
    "# 2 / 7 = 0.2857142857\n",
    "a = 2\n",
    "b = 7\n",
    "ans = \"0.\"\n",
    "\n",
    "i  = 0\n",
    "while i < 10:\n",
    "    c = (a * 10) // b\n",
    "    a = (a * 10) % b\n",
    "    ans = ans + str(c)\n",
    "    i = i + 1\n",
    "    # 如果除盡就提早結束\n",
    "    if a == 0:\n",
    "        break\n",
    "print(ans)"
   ]
  },
  {
   "cell_type": "code",
   "execution_count": null,
   "id": "8d1ef899",
   "metadata": {},
   "outputs": [
    {
     "name": "stdout",
     "output_type": "stream",
     "text": [
      "超出範圍，請重新輸入\n",
      "太小了\n",
      "太小了\n",
      "太小了\n",
      "恭喜你猜對了!答案是80\n"
     ]
    }
   ],
   "source": [
    "# 終極密碼\n",
    "import random\n",
    "\n",
    "low, high = 1, 100\n",
    "# 答案會在2~99之間，避免答案是1或100太難猜\n",
    "ans = random.randint(low+1, high-1)\n",
    "\n",
    "while True:\n",
    "    # 在最開始就確保輸入的值是對的，對的才放他走\n",
    "    while True:\n",
    "        guess = int(input(f\"請輸入{low}~{high}之間的數字: \"))\n",
    "        if low < guess < high:\n",
    "            break\n",
    "        else:\n",
    "            print(\"超出範圍，請重新輸入\")\n",
    "\n",
    "    if guess > ans:\n",
    "        print(\"太大了\")\n",
    "        high = guess  # 更新上限\n",
    "    elif guess < ans:\n",
    "        print(\"太小了\")\n",
    "        low = guess   # 更新下限\n",
    "    else:\n",
    "        print(f\"恭喜你猜對了!答案是{ans}\")\n",
    "        break"
   ]
  },
  {
   "cell_type": "markdown",
   "id": "9a44b817",
   "metadata": {},
   "source": [
    "# 清單與字典"
   ]
  },
  {
   "cell_type": "code",
   "execution_count": null,
   "id": "c94c4f45",
   "metadata": {},
   "outputs": [],
   "source": [
    "# List詳細查詢操作\n",
    "scores = [78, 95, 83, 64, 88]\n",
    "\n",
    "# 運算\n",
    "print(sum(scores),max(scores),min(scores),len(scores))\n",
    "\n",
    "# 查看有無在清單內\n",
    "print(78 in scores)\n",
    "\n",
    "# 查詢: 查東西[key]\n",
    "print(scores[0])  # 查詢第一個分數\n",
    "print(scores[-1])  # 查詢最後一個分數\n",
    "\n",
    "print(scores[1:4])  # 查詢第2到第4個分數(含前不含後)\n",
    "print(scores[1:-1])  # 查詢第2個分數到倒數第2個分數\n",
    "print(scores[:3])  # 查詢前3個分數\n",
    "print(scores[2:])  # 查詢第3個分數到最後\n",
    "\n",
    "print(scores[::2])  # 查詢所有分數，奇數跳號\n",
    "print(scores[1::2])  # 查詢所有分數，偶數跳號\n",
    "print(scores[4:0:-2])  # 查詢所有分數，反向跳號(右跳到左)\n",
    "print(scores[::-1])  # 查詢所有分數，反向顯示"
   ]
  },
  {
   "cell_type": "code",
   "execution_count": null,
   "id": "65f7e31e",
   "metadata": {},
   "outputs": [
    {
     "name": "stdout",
     "output_type": "stream",
     "text": [
      "及格人數有:4人\n"
     ]
    }
   ],
   "source": [
    "# for...in 操作(走過)\n",
    "# 保證全都至少拿過一次\n",
    "scores = [80, 60, 90, 20, 100]\n",
    "count = 0\n",
    "for i in scores:\n",
    "    if i >= 60:\n",
    "        count = count + 1\n",
    "print(f\"及格人數有:{count}人\")"
   ]
  },
  {
   "cell_type": "code",
   "execution_count": null,
   "id": "28cbbf6a",
   "metadata": {},
   "outputs": [],
   "source": [
    "# 回憶 1加到10\n",
    "total = 0\n",
    "i = 0\n",
    "while i < 10:\n",
    "    total = total + (i + 1)\n",
    "    print(total)\n",
    "    i = i + 1"
   ]
  },
  {
   "cell_type": "code",
   "execution_count": null,
   "id": "c89b7c84",
   "metadata": {},
   "outputs": [],
   "source": [
    "# 1.range(5)產生[0,1,2,3,4]\n",
    "# 2.range(3,8)產生[3,4,5,6,7]\n",
    "# 3.range(2,10,2)產生[2,4,6,8](兩個一跳)\n",
    "total = 0\n",
    "for i in range(10):\n",
    "    total = total + (i + 1)\n",
    "    print(total)"
   ]
  },
  {
   "cell_type": "markdown",
   "id": "157083a3",
   "metadata": {},
   "source": [
    "## 迴圈SOP\n",
    "1.走過群集(str/list...): for 名稱 in 群  \n",
    "2.固定次數型迴圈: for i in range(次數)  \n",
    "3.其他條件迴圈: while(True+break)"
   ]
  },
  {
   "cell_type": "code",
   "execution_count": null,
   "id": "7319fc21",
   "metadata": {},
   "outputs": [],
   "source": [
    "# dict操作\n",
    "person = {\n",
    "    \"name\": \"Alice\",\n",
    "    \"height\": 170,\n",
    "}\n",
    "print(person)\n",
    "\n",
    "# 查詢value\n",
    "print(person[\"name\"])\n",
    "\n",
    "# 新增key-value\n",
    "person[\"weight\"] = 60\n",
    "print(person)\n",
    "\n",
    "# 更改value\n",
    "person[\"height\"] = 168\n",
    "print(person)\n",
    "\n",
    "# 刪除key-value(兩個都會刪)\n",
    "del person[\"weight\"]\n",
    "print(person)"
   ]
  },
  {
   "cell_type": "code",
   "execution_count": null,
   "id": "3e10aaf7",
   "metadata": {},
   "outputs": [],
   "source": [
    "# JSON格式\n",
    "exhibition = [\n",
    "    {\n",
    "        \"name\": \"展覽A\",\n",
    "        \"date\": \"2024-07-01 to 2024-07-31\",\n",
    "        \"location\": \"台北市立美術館\",\n",
    "        \"price\": 150\n",
    "    },\n",
    "    {\n",
    "        \"name\": \"展覽B\",\n",
    "        \"date\": \"2024-08-15 to 2024-09-15\",\n",
    "        \"location\": \"高雄市立美術館\",\n",
    "        \"price\": 200\n",
    "    }\n",
    "]\n",
    "\n",
    "# 只取一個展覽\n",
    "print(exhibition[0])\n",
    "print(exhibition[0][\"name\"])\n",
    "\n",
    "# 取出所有展覽資訊\n",
    "# for exhibit in exhibition:\n",
    "#     print(f\"展覽名稱: {exhibit['name']}\")\n",
    "#     print(f\"展覽日期: {exhibit['date']}\")\n",
    "#     print(f\"展覽地點: {exhibit['location']}\")\n",
    "#     print(f\"展覽票價: {exhibit['price']}\")\n",
    "#     print(\"-------------------------\")\n"
   ]
  },
  {
   "cell_type": "code",
   "execution_count": null,
   "id": "4d1d830e",
   "metadata": {},
   "outputs": [],
   "source": [
    "# 檔案讀寫\n",
    "# https://docs.python.org/zh-tw/3.13/library/functions.html#open\n",
    "\n",
    "# 有等號代表有預設值，沒有的代表需要代入\n",
    "# open(file, mode='r', buffering=-1, encoding=None, errors=None, newline=None, closefd=True,\n",
    "# opener=None)\n",
    "\n",
    "# file: 檔案名稱或路徑(記得使用相對路徑a.txt，避免不同裝置產生衝突)\n",
    "\n",
    "# mode: 開啟模式\n",
    "# 'r' 讀取模式(預設值)\n",
    "# 'w' 寫入模式(會覆蓋原本檔案)\n",
    "# 'a' 附加模式(在檔案末尾新增內容)\n",
    "\n",
    "# encoding: 編碼格式(建議使用utf-8)"
   ]
  },
  {
   "cell_type": "code",
   "execution_count": 12,
   "id": "47c05a20",
   "metadata": {},
   "outputs": [],
   "source": [
    "# 專屬功能\n",
    "# 寫入\n",
    "# \"w\"因為沒有跳順序所以可以省略mode，encoding跳了所以要標註\n",
    "f = open(\"讀寫測試.txt\", \"w\", encoding=\"utf-8\")\n",
    "\n",
    "# f\"的\"write功能\n",
    "f.write(\"Hello, World!\")\n",
    "\n",
    "# 跳脫字元 \\n(換行) \\t(tab)\n",
    "f.write(\"\\n你好，世界！\")\n",
    "\n",
    "# 以前:close(f)\n",
    "# 專屬功能寫法:f.close()\n",
    "f.close()  # 關閉檔案"
   ]
  },
  {
   "cell_type": "code",
   "execution_count": 13,
   "id": "7471400a",
   "metadata": {},
   "outputs": [
    {
     "name": "stdout",
     "output_type": "stream",
     "text": [
      "Hello, World!\n",
      "你好，世界！\n"
     ]
    }
   ],
   "source": [
    "# 讀取\n",
    "f = open(\"讀寫測試.txt\", \"r\", encoding=\"utf-8\")\n",
    "s = f.read()  # 讀取整個檔案內容，並存入變數 s\n",
    "f.close()  # 關閉檔案\n",
    "print(s)  # 印出讀取到的內容"
   ]
  },
  {
   "cell_type": "markdown",
   "id": "5c315fd2",
   "metadata": {},
   "source": [
    "# 專屬功能\n",
    "以前使用功能的方式(function):  \n",
    "功能(參數對象,其他參數)  \n",
    "  \n",
    "專屬(某種型態)功能(method):  \n",
    "參數對象.功能(其他參數)  "
   ]
  },
  {
   "cell_type": "code",
   "execution_count": null,
   "id": "2030a77e",
   "metadata": {},
   "outputs": [],
   "source": [
    "# 字串專屬功能\n",
    "# https://www.w3schools.com/python/python_ref_string.asp\n",
    "\n",
    "s = \"hello\" * 5\n",
    "print(s)\n",
    "\n",
    "b = s.replace(\"hello\", \"hi\")\n",
    "print(b)\n",
    "\n",
    "# 取代前兩個hello\n",
    "s = s.replace(\"hello\", \"8\", 2)\n",
    "print(s)"
   ]
  },
  {
   "cell_type": "code",
   "execution_count": null,
   "id": "a9e36959",
   "metadata": {},
   "outputs": [
    {
     "name": "stdout",
     "output_type": "stream",
     "text": [
      "['2025', '12', '31']\n",
      "31/12/2025\n"
     ]
    }
   ],
   "source": [
    "# 字串常用功能\n",
    "# 分割字串\n",
    "d = \"2025-12-31\"\n",
    "ds = d.split(\"-\")  # 將字串以 \"-\" 為分隔符號，分割成多個部分\n",
    "print(ds)  # 印出分割後的列表\n",
    "\n",
    "# 字串常用功能\n",
    "# 合併字串\n",
    "# [::-1] 反轉列表\n",
    "dj = \"/\".join(ds[::-1])\n",
    "print(dj)  # 印出合併後的字串"
   ]
  },
  {
   "cell_type": "code",
   "execution_count": null,
   "id": "07149968",
   "metadata": {},
   "outputs": [],
   "source": [
    "# 去除多餘空白跟換行\n",
    "s = \"\\n     abc     \\t   \\n\"\n",
    "print(s)\n",
    "\n",
    "# 去除字串前後的空白字元\n",
    "print(s.strip())\n",
    "\n",
    "# lstrip():去除左邊空白\n",
    "print(s.lstrip())\n",
    "\n",
    "# rstrip():去除右邊空白\n",
    "print(s.rstrip())"
   ]
  },
  {
   "cell_type": "code",
   "execution_count": null,
   "id": "0aa77c6e",
   "metadata": {},
   "outputs": [],
   "source": [
    "# 清單專屬功能\n",
    "# https://www.w3schools.com/python/python_ref_list.asp\n",
    "# append()把東西加到結尾 insert()把東西插入 pop()把東西彈出來\n",
    "\n",
    "scores = [78, 95, 83, 64, 88]\n",
    "# list的專屬功能會直接改變值\n",
    "b = scores.append(99)\n",
    "print(scores)\n",
    "print(b)\n",
    "\n",
    "# 字串: print(s.replace(\"xxx\", \"ooo\"))\n",
    "# 錯誤1. 印出None, 但888是有進去的\n",
    "# print(scores.append(888)\n",
    "\n",
    "# 字串: s = s.replace()\n",
    "# 致命錯誤2. 相當於寫scores = None\n",
    "# scores = scores.append(777)\n",
    "\n",
    "# 正確寫法\n",
    "scores.append(777)\n",
    "print(scores)"
   ]
  },
  {
   "cell_type": "markdown",
   "id": "c591e8e3",
   "metadata": {},
   "source": [
    "## SOP\n",
    "字串型:b = a.replace() 這時候a是舊的字串，b是新的  \n",
    "清單型:b = a.append() 這時候a是新的清單，b是None"
   ]
  },
  {
   "cell_type": "code",
   "execution_count": 78,
   "id": "33f2e63d",
   "metadata": {},
   "outputs": [
    {
     "name": "stdout",
     "output_type": "stream",
     "text": [
      "贏的機率: 0.6686\n"
     ]
    }
   ],
   "source": [
    "# n門問題\n",
    "# 贏的機率:(n-1) / n * 1 / (n-2)\n",
    "# 輸的機率:1 - 贏的機率\n",
    "\n",
    "import random\n",
    "total = 100000\n",
    "win,lose = 0, 0\n",
    "n = 3  # 門的數量\n",
    "\n",
    "# 固定次數型迴圈\n",
    "for t in range(total):\n",
    "    # 準備n個門 [0和1] 0:沒有獎 1:有獎\n",
    "    doors = [0] * (n-1)\n",
    "    # print(doors) #[0, 0, 0]\n",
    "\n",
    "    # 隨機產生中獎門的位置\n",
    "    idx = random.randint(0, len(doors) - 1)\n",
    "\n",
    "    # 插入中獎門\n",
    "    # insert(插入位置, 值)\n",
    "    doors.insert(idx, 1)\n",
    "    # print(f\"準備的門: {doors}\")\n",
    "\n",
    "    # 隨機選一個門(random)(X)\n",
    "    idx = random.randint(0, len(doors) - 1)\n",
    "    # print(f\"選到的門: {doors[idx]}\")\n",
    "\n",
    "    # pop(idx): 刪除那個index，pop(): 刪除最後一個\n",
    "    doors.pop(idx)\n",
    "    # print(f\"剩下的門: {doors}\")\n",
    "\n",
    "    # 剩下的門中，主持人開一個沒獎的門(X)\n",
    "    # remove(值): 從左到右找到第一個符合的值並刪除\n",
    "    doors.remove(0)\n",
    "    # print(f\"移除後剩下的門: {doors}\")\n",
    "\n",
    "    # 扣除剛才兩道門後，再選一個\n",
    "    idx = random.randint(0, len(doors) - 1)\n",
    "    if doors[idx] == 1:\n",
    "        # print(\"你贏了!\")\n",
    "        win = win + 1\n",
    "    else:\n",
    "        # print(\"沒中獎!\")\n",
    "        lose = lose + 1\n",
    "\n",
    "ratio = win / total\n",
    "print(f\"贏的機率: {ratio}\")"
   ]
  },
  {
   "cell_type": "markdown",
   "id": "6183e182",
   "metadata": {},
   "source": [
    "# 函式和物件導向"
   ]
  },
  {
   "cell_type": "code",
   "execution_count": null,
   "id": "c49b39dd",
   "metadata": {},
   "outputs": [],
   "source": [
    "# 函式定義\n",
    "# 1.關鍵字是def define\n",
    "# 2.給名字(通常用動詞開始，兩個單字接在一起用_連接)\n",
    "weight, height = 70, 175\n",
    "\n",
    "# 定義參數: 預先定義一個參數代號/名稱\n",
    "# 定義回傳值: 用return把計算結果回傳出去，如果沒有寫return，等於回傳None\n",
    "# d: 小數位數預設值2，小括號內計算符號不需要空格\n",
    "def calculate_bmi(w, h, d=2):\n",
    "    bmi = w / (h / 100) ** 2\n",
    "    # d: round的第二個參數，代表小數位數\n",
    "    return round(bmi, d)\n",
    "\n",
    "# 呼叫函式\n",
    "bmi = calculate_bmi(weight, height, 4)\n",
    "print(f\"你的bmi是:{bmi}\")\n",
    "\n",
    "bmi = calculate_bmi(weight, height)\n",
    "print(f\"你的bmi是:{bmi}\")"
   ]
  },
  {
   "cell_type": "code",
   "execution_count": 14,
   "id": "006fc342",
   "metadata": {},
   "outputs": [
    {
     "name": "stdout",
     "output_type": "stream",
     "text": [
      "22.86\n"
     ]
    }
   ],
   "source": [
    "# 物件導向:自訂型態\n",
    "# class(設計圖)\n",
    "# 自訂型態名稱習慣大寫開始，跟內建型態做劃分\n",
    "class Person:\n",
    "    pass\n",
    "\n",
    "# 一個型態可以擁有的兩種東西\n",
    "# 1.專屬功能: 人.洗澡() 人.睡覺()\n",
    "# 2.專屬值: 人.身高 人.體重\n",
    "p1 = Person()\n",
    "# print(type(p1)) # <class '__main__.Person'>\n",
    "\n",
    "# 把值定義在p1底下\n",
    "p1.weight = 70\n",
    "p1.height = 175\n",
    "\n",
    "def calculate_bmi(w, h, d=2):\n",
    "    bmi = w / (h / 100) ** 2\n",
    "    return round(bmi, d)\n",
    "\n",
    "print(calculate_bmi(p1.weight, p1.height))"
   ]
  },
  {
   "cell_type": "code",
   "execution_count": null,
   "id": "a17adc63",
   "metadata": {},
   "outputs": [
    {
     "name": "stdout",
     "output_type": "stream",
     "text": [
      "22.8571\n"
     ]
    }
   ],
   "source": [
    "class Person:\n",
    "\n",
    "    def set_data(self, w, h):\n",
    "        self.weight = w\n",
    "        self.height = h\n",
    "\n",
    "    # 第一個參數習慣叫self\n",
    "    # self代p1,d代4\n",
    "    def calculate_bmi(self, d=2):\n",
    "        bmi = self.weight / (self.height / 100) ** 2\n",
    "        return round(bmi, d)\n",
    "\n",
    "p1 = Person()\n",
    "p1.set_data(70, 175)\n",
    "\n",
    "print(p1.calculate_bmi(d=4))"
   ]
  },
  {
   "cell_type": "code",
   "execution_count": null,
   "id": "25c8aebd",
   "metadata": {},
   "outputs": [
    {
     "name": "stdout",
     "output_type": "stream",
     "text": [
      "22.8571\n"
     ]
    }
   ],
   "source": [
    "# 物件導向客製化\n",
    "class Person:\n",
    "    # __xx__代表有偷偷預設行為\n",
    "    def __init__(self, w, h):\n",
    "        self.weight = w\n",
    "        self.height = h\n",
    "\n",
    "    # 第一個參數習慣叫self\n",
    "    # self代p1,d代4\n",
    "    def calculate_bmi(self, d=2):\n",
    "        bmi = self.weight / (self.height / 100) ** 2\n",
    "        return round(bmi, d)\n",
    "\n",
    "# p1 = Person()\n",
    "# p1.set_data(70, 175)\n",
    "\n",
    "# __init__會自動被呼叫\n",
    "p1 = Person(70, 175)\n",
    "\n",
    "print(p1.calculate_bmi(d=4))"
   ]
  },
  {
   "cell_type": "code",
   "execution_count": null,
   "id": "94191ed8",
   "metadata": {},
   "outputs": [
    {
     "name": "stdout",
     "output_type": "stream",
     "text": [
      "22.8571\n",
      "體重:70, 身高:175\n",
      "True\n"
     ]
    }
   ],
   "source": [
    "# 覆蓋專屬功能\n",
    "# https://docs.python.org/zh-tw/3.14/reference/datamodel.html\n",
    "class Person:\n",
    "    def __init__(self, w, h):\n",
    "        self.weight = w\n",
    "        self.height = h\n",
    "\n",
    "    def calculate_bmi(self, d=2):\n",
    "        bmi = self.weight / (self.height / 100) ** 2\n",
    "        return round(bmi, d)\n",
    "    \n",
    "    def __str__(self):\n",
    "        return f\"體重:{self.weight}, 身高:{self.height}\"\n",
    "    \n",
    "    def __eq__(self, other):\n",
    "        return (self.weight == other.weight and\n",
    "                self.height == other.height)\n",
    "\n",
    "p1 = Person(70, 175)\n",
    "print(p1.calculate_bmi(d=4))\n",
    "\n",
    "# print(p1) -> p1轉成字串 -> 偷偷做了str(p1) -> p1.__str__()\n",
    "print(p1)\n",
    "\n",
    "p2 = Person(70, 175)\n",
    "# p1 == p2 -> p1.__eq__(p2)\n",
    "print(p1 == p2)"
   ]
  }
 ],
 "metadata": {
  "kernelspec": {
   "display_name": ".venv",
   "language": "python",
   "name": "python3"
  },
  "language_info": {
   "codemirror_mode": {
    "name": "ipython",
    "version": 3
   },
   "file_extension": ".py",
   "mimetype": "text/x-python",
   "name": "python",
   "nbconvert_exporter": "python",
   "pygments_lexer": "ipython3",
   "version": "3.12.4"
  }
 },
 "nbformat": 4,
 "nbformat_minor": 5
}
