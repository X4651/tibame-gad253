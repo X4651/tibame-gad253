{
 "cells": [
  {
   "cell_type": "code",
   "execution_count": 3,
   "id": "0c46d782",
   "metadata": {},
   "outputs": [
    {
     "name": "stdout",
     "output_type": "stream",
     "text": [
      "Collecting PyMySQL\n",
      "  Using cached pymysql-1.1.2-py3-none-any.whl.metadata (4.3 kB)\n",
      "Using cached pymysql-1.1.2-py3-none-any.whl (45 kB)\n",
      "Installing collected packages: PyMySQL\n",
      "Successfully installed PyMySQL-1.1.2\n",
      "Note: you may need to restart the kernel to use updated packages.\n"
     ]
    }
   ],
   "source": [
    "pip install PyMySQL"
   ]
  },
  {
   "cell_type": "code",
   "execution_count": 4,
   "id": "initial_id",
   "metadata": {
    "ExecuteTime": {
     "end_time": "2025-10-17T03:52:25.630366Z",
     "start_time": "2025-10-17T03:52:25.614692Z"
    },
    "collapsed": true
   },
   "outputs": [
    {
     "name": "stdout",
     "output_type": "stream",
     "text": [
      "MySQL 連線成功！\n"
     ]
    }
   ],
   "source": [
    "import pymysql\n",
    "\n",
    "# 建立連線\n",
    "connection = pymysql.connect(\n",
    "    host=\"localhost\",\n",
    "    user=\"root\",\n",
    "    password=\"4651\",\n",
    "    database=\"python\"\n",
    ")\n",
    "\n",
    "# 建立 cursor\n",
    "cursor = connection.cursor()\n",
    "\n",
    "print(\"MySQL 連線成功！\")"
   ]
  },
  {
   "cell_type": "code",
   "execution_count": 5,
   "id": "a9bf1e2f0855241",
   "metadata": {
    "ExecuteTime": {
     "end_time": "2025-10-17T03:52:27.406870Z",
     "start_time": "2025-10-17T03:52:27.402022Z"
    }
   },
   "outputs": [
    {
     "name": "stdout",
     "output_type": "stream",
     "text": [
      "(7369, 'SMITH', 'CLERK', 7902, datetime.datetime(2010, 12, 17, 0, 0), Decimal('800.00'), None, 20)\n",
      "(7499, 'ALLEN', 'SALESMAN', 7698, datetime.datetime(2011, 2, 20, 0, 0), Decimal('1600.00'), Decimal('300.00'), 30)\n",
      "(7521, 'WARD', 'SALESMAN', 7698, datetime.datetime(2011, 2, 22, 0, 0), Decimal('1250.00'), Decimal('500.00'), 30)\n",
      "(7566, 'JONES', 'MANAGER', 7839, datetime.datetime(2011, 4, 2, 0, 0), Decimal('2975.00'), None, 20)\n",
      "(7654, 'MARTIN', 'SALESMAN', 7698, datetime.datetime(2011, 9, 28, 0, 0), Decimal('1250.00'), Decimal('1400.00'), 30)\n",
      "(7698, 'BLAKE', 'MANAGER', 7839, datetime.datetime(2011, 5, 1, 0, 0), Decimal('2850.00'), None, 30)\n",
      "(7782, 'CLARK', 'MANAGER', 7839, datetime.datetime(2011, 6, 9, 0, 0), Decimal('2450.00'), None, 10)\n",
      "(7788, 'SCOTT', 'ANALYST', 7566, datetime.datetime(2012, 12, 9, 0, 0), Decimal('3000.00'), None, 20)\n",
      "(7839, 'KING', 'PRESIDENT', None, datetime.datetime(2011, 11, 17, 0, 0), Decimal('5000.00'), None, 10)\n",
      "(7844, 'TURNER', 'SALESMAN', 7698, datetime.datetime(2011, 9, 8, 0, 0), Decimal('1500.00'), Decimal('0.00'), 30)\n",
      "(7876, 'ADAMS', 'CLERK', 7788, datetime.datetime(2013, 1, 12, 0, 0), Decimal('1100.00'), None, 20)\n",
      "(7900, 'JAMES', 'CLERK', 7698, datetime.datetime(2011, 12, 3, 0, 0), Decimal('950.00'), None, 30)\n",
      "(7902, 'FORD', 'ANALYST', 7566, datetime.datetime(2011, 12, 3, 0, 0), Decimal('3000.00'), None, 20)\n",
      "(7934, 'MILLER', 'CLERK', 7782, datetime.datetime(2012, 1, 23, 0, 0), Decimal('1300.00'), None, 10)\n"
     ]
    }
   ],
   "source": [
    "cursor.execute(\"SELECT * FROM emp;\")\n",
    "results = cursor.fetchall()\n",
    "for row in results:\n",
    "    print(row)"
   ]
  },
  {
   "cell_type": "code",
   "execution_count": 6,
   "id": "f340fcf0218928d6",
   "metadata": {
    "ExecuteTime": {
     "end_time": "2025-10-17T03:52:29.758657Z",
     "start_time": "2025-10-17T03:52:29.753733Z"
    }
   },
   "outputs": [
    {
     "name": "stdout",
     "output_type": "stream",
     "text": [
      "\n",
      "🔚 連線已關閉。\n",
      "🔒 驗證結果：連線確實已關閉。\n"
     ]
    }
   ],
   "source": [
    "# === 關閉連線 ===\n",
    "cursor.close()\n",
    "connection.close()\n",
    "print(\"\\n🔚 連線已關閉。\")\n",
    "\n",
    "if not connection.open:\n",
    "    print(\"🔒 驗證結果：連線確實已關閉。\")\n",
    "else:\n",
    "    print(\"⚠️ 連線仍然開啟中。\")"
   ]
  }
 ],
 "metadata": {
  "kernelspec": {
   "display_name": ".venv",
   "language": "python",
   "name": "python3"
  },
  "language_info": {
   "codemirror_mode": {
    "name": "ipython",
    "version": 3
   },
   "file_extension": ".py",
   "mimetype": "text/x-python",
   "name": "python",
   "nbconvert_exporter": "python",
   "pygments_lexer": "ipython3",
   "version": "3.12.4"
  }
 },
 "nbformat": 4,
 "nbformat_minor": 5
}
