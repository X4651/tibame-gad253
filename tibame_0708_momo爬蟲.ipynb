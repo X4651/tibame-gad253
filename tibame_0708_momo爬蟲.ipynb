{
  "nbformat": 4,
  "nbformat_minor": 0,
  "metadata": {
    "colab": {
      "provenance": [],
      "authorship_tag": "ABX9TyPqlq9j4gSJn6vL5tnhBQI4",
      "include_colab_link": true
    },
    "kernelspec": {
      "name": "python3",
      "display_name": "Python 3"
    },
    "language_info": {
      "name": "python"
    }
  },
  "cells": [
    {
      "cell_type": "markdown",
      "metadata": {
        "id": "view-in-github",
        "colab_type": "text"
      },
      "source": [
        "<a href=\"https://colab.research.google.com/github/X4651/tibame-gad253/blob/main/tibame_0708_momo%E7%88%AC%E8%9F%B2.ipynb\" target=\"_parent\"><img src=\"https://colab.research.google.com/assets/colab-badge.svg\" alt=\"Open In Colab\"/></a>"
      ]
    },
    {
      "cell_type": "code",
      "source": [
        "!pip install dirtyjson"
      ],
      "metadata": {
        "id": "g__aSpb92nW0",
        "colab": {
          "base_uri": "https://localhost:8080/"
        },
        "outputId": "e70bda38-de91-4bd5-d338-e9e756ea470d"
      },
      "execution_count": null,
      "outputs": [
        {
          "output_type": "stream",
          "name": "stdout",
          "text": [
            "Collecting dirtyjson\n",
            "  Downloading dirtyjson-1.0.8-py3-none-any.whl.metadata (11 kB)\n",
            "Downloading dirtyjson-1.0.8-py3-none-any.whl (25 kB)\n",
            "Installing collected packages: dirtyjson\n",
            "Successfully installed dirtyjson-1.0.8\n"
          ]
        }
      ]
    },
    {
      "cell_type": "code",
      "source": [
        "import urllib.request as req\n",
        "import bs4 as bs\n",
        "import json\n",
        "import dirtyjson\n",
        "\n",
        "url = \"https://www.momoshop.com.tw/search/searchShop.jsp?keyword=%E5%90%B9%E9%A2%A8%E6%A9%9F&_isFuzzy=0&searchType=1&cateLevel=0\"\n",
        "resp = req.urlopen(url)\n",
        "html = bs.BeautifulSoup(resp.read())\n",
        "\n",
        "scripts = html.find_all(\"script\")\n",
        "target_script = None\n",
        "for script in scripts:\n",
        "    if \"@type\" in script.text:\n",
        "        target_script = script\n",
        "        break\n",
        "datas = dirtyjson.loads(target_script.text)\n",
        "f = open(\"data.json\", \"w\", encoding=\"utf-8\")\n",
        "#                   indent縮排\n",
        "json.dump(datas, f, indent=4, ensure_ascii=False)\n",
        "f.close()"
      ],
      "metadata": {
        "id": "T_Z-fv4E6wcC"
      },
      "execution_count": null,
      "outputs": []
    },
    {
      "cell_type": "code",
      "source": [
        "import urllib.request as req\n",
        "import bs4 as bs\n",
        "import json\n",
        "import dirtyjson\n",
        "\n",
        "url = \"https://www.momoshop.com.tw/search/searchShop.jsp?keyword=%E5%90%B9%E9%A2%A8%E6%A9%9F&_isFuzzy=0&searchType=1&cateLevel=0\"\n",
        "resp = req.urlopen(url)\n",
        "html = bs.BeautifulSoup(resp.read())\n",
        "\n",
        "scripts = html.find_all(\"script\")\n",
        "target_script = None\n",
        "for script in scripts:\n",
        "    if \"@type\" in script.text:\n",
        "        target_script = script\n",
        "        break\n",
        "datas = dirtyjson.loads(target_script.text)\n",
        "items = datas[\"mainEntity\"][\"itemListElement\"]\n",
        "for item in items:\n",
        "    item_name = item[\"name\"]\n",
        "    item_image = item[\"image\"]\n",
        "    item_url = item[\"url\"]\n",
        "    item_price = item[\"offers\"][\"price\"]\n",
        "    print(item_name)\n",
        "    print(item_image)\n",
        "    print(item_url)\n",
        "    print(item_price)\n",
        "    # 請再進去每個item的url\n",
        "    # 取出 介紹/品牌/三個價格"
      ],
      "metadata": {
        "id": "uVsbAXOA6y2W"
      },
      "execution_count": null,
      "outputs": []
    },
    {
      "cell_type": "code",
      "source": [
        "import urllib.request as req\n",
        "import bs4 as bs\n",
        "import json\n",
        "import dirtyjson\n",
        "\n",
        "url = \"https://www.momoshop.com.tw/search/searchShop.jsp?keyword=%E5%90%B9%E9%A2%A8%E6%A9%9F&_isFuzzy=0&searchType=1&cateLevel=0\"\n",
        "resp = req.urlopen(url)\n",
        "html = bs.BeautifulSoup(resp.read())\n",
        "\n",
        "scripts = html.find_all(\"script\")\n",
        "target_script = None\n",
        "for script in scripts:\n",
        "    if \"@type\" in script.text:\n",
        "        target_script = script\n",
        "        break\n",
        "datas = dirtyjson.loads(target_script.text)\n",
        "\n",
        "table = []\n",
        "items = datas[\"mainEntity\"][\"itemListElement\"]\n",
        "for item in items:\n",
        "    item_name = item[\"name\"]\n",
        "    item_image = item[\"image\"]\n",
        "    item_url = item[\"url\"]\n",
        "    item_price = item[\"offers\"][\"price\"]\n",
        "    print(item_name)\n",
        "    print(item_image)\n",
        "    print(item_url)\n",
        "    print(item_price)\n",
        "    # 你要再進去每個item的url\n",
        "    # 介紹/品牌/三個價格\n",
        "    row = get_product_info(item_url)\n",
        "    row[\"name\"] = item_name\n",
        "    row[\"image\"] = item_image\n",
        "    row[\"url\"] = item_url\n",
        "    table.append(row)\n",
        "print(table)"
      ],
      "metadata": {
        "id": "Z--HZROp60Yx"
      },
      "execution_count": null,
      "outputs": []
    },
    {
      "cell_type": "code",
      "source": [
        "import urllib.request as req\n",
        "import bs4 as bs\n",
        "\n",
        "def get_product_info(url):\n",
        "    # url = \"https://www.momoshop.com.tw/goods/GoodsDetail.jsp?i_code=7597129&Area=search&mdiv=403&oid=1_7&cid=index&kw=%E5%90%B9%E9%A2%A8%E6%A9%9F\"\n",
        "    resp = req.urlopen(url)\n",
        "    html = bs.BeautifulSoup(resp.read())\n",
        "\n",
        "    brand = html.find(\"a\", {\"id\":\"webBrand\"})\n",
        "    infos = html.find(\"ul\", {\"id\":\"categoryActivityInfo\"}).find_all(\"li\")\n",
        "    prices = html.find(\"ul\", {\"class\":\"prdPrice\"}).find_all(\"li\")\n",
        "    if len(prices) == 3:\n",
        "        price_original = prices[0].find(\"del\")\n",
        "        price_discount = prices[1].find(\"del\")\n",
        "        price_special = prices[2].find(\"span\")\n",
        "    elif len(prices) == 2:\n",
        "        price_original = prices[0].find(\"del\")\n",
        "        price_discount = prices[1].find(\"span\")\n",
        "        price_special = None\n",
        "    else:\n",
        "        price_original = None\n",
        "        price_discount = prices[0].find(\"span\")\n",
        "        price_special = None\n",
        "\n",
        "\n",
        "    brand_text = brand.text\n",
        "    # price\n",
        "    if not price_original == None:\n",
        "        price_original_text = price_original.text\n",
        "    else:\n",
        "        price_original_text = \"-\"\n",
        "    price_discount_text = price_discount.text\n",
        "    if not price_special == None:\n",
        "        price_special_text = price_special.text\n",
        "    else:\n",
        "        price_special_text = \"-\"\n",
        "    # info\n",
        "    info_text = \"\"\n",
        "    for info in infos:\n",
        "        info_text = info_text + info.text + \"\\n\"\n",
        "\n",
        "    # print(brand_text)\n",
        "    # print(price_original_text)\n",
        "    # print(price_discount_text)\n",
        "    # print(price_special_text)\n",
        "    # print(info_text)\n",
        "\n",
        "    row = {\n",
        "        \"brand\":brand_text,\n",
        "        \"price_original\":price_original_text,\n",
        "        \"price_discount\":price_discount_text,\n",
        "        \"price_special\":price_special_text,\n",
        "        \"goods_info\":info_text,\n",
        "    }\n",
        "    return row"
      ],
      "metadata": {
        "id": "LerSwH0HotDN"
      },
      "execution_count": null,
      "outputs": []
    },
    {
      "cell_type": "code",
      "source": [
        "# 先做一頁 定義成函式 做成迴圈\n",
        "import urllib.request as req\n",
        "import bs4 as bs\n",
        "import json\n",
        "import dirtyjson\n",
        "import pandas as pd\n",
        "\n",
        "# 存一頁\n",
        "def get_page_products(url):\n",
        "    # url = \"https://www.momoshop.com.tw/search/searchShop.jsp?keyword=%E5%90%B9%E9%A2%A8%E6%A9%9F&_isFuzzy=0&searchType=1&cateLevel=0&curPage=1\"\n",
        "    resp = req.urlopen(url)\n",
        "    html = bs.BeautifulSoup(resp.read())\n",
        "\n",
        "    scripts = html.find_all(\"script\")\n",
        "    target_script = None\n",
        "    for script in scripts:\n",
        "        if \"@type\" in script.text:\n",
        "            target_script = script\n",
        "            break\n",
        "    datas = dirtyjson.loads(target_script.text)\n",
        "\n",
        "    table = []\n",
        "    items = datas[\"mainEntity\"][\"itemListElement\"]\n",
        "    for item in items:\n",
        "        item_name = item[\"name\"]\n",
        "        item_image = item[\"image\"]\n",
        "        item_url = item[\"url\"]\n",
        "        item_price = item[\"offers\"][\"price\"]\n",
        "        print(item_name)\n",
        "        print(item_image)\n",
        "        print(item_url)\n",
        "        print(item_price)\n",
        "        # 你要再進去每個item的url\n",
        "        # 介紹/品牌/三個價格\n",
        "        row = get_product_info(item_url)\n",
        "        row[\"name\"] = item_name\n",
        "        row[\"image\"] = item_image\n",
        "        row[\"url\"] = item_url\n",
        "        table.append(row)\n",
        "    return table\n",
        "\n",
        "\n",
        "\n",
        "total_table = []\n",
        "for i in range(3):\n",
        "    page = i + 1\n",
        "    url = \"https://www.momoshop.com.tw/search/searchShop.jsp?keyword=%E5%90%B9%E9%A2%A8%E6%A9%9F&_isFuzzy=0&searchType=1&cateLevel=0&curPage=\" + str(page)\n",
        "    partial = get_page_products(url)\n",
        "    total_table.extend(partial)\n",
        "df = pd.DataFrame(total_table)\n",
        "df.to_csv(\"momo.csv\", encoding=\"utf-8\")"
      ],
      "metadata": {
        "id": "4zdJTMybyu_3"
      },
      "execution_count": null,
      "outputs": []
    }
  ]
}