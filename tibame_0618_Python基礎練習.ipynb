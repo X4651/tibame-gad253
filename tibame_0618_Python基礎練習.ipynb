{
  "nbformat": 4,
  "nbformat_minor": 0,
  "metadata": {
    "colab": {
      "provenance": [],
      "authorship_tag": "ABX9TyO0F/eegMiW3eybVX8qFeGF",
      "include_colab_link": true
    },
    "kernelspec": {
      "name": "python3",
      "display_name": "Python 3"
    },
    "language_info": {
      "name": "python"
    }
  },
  "cells": [
    {
      "cell_type": "markdown",
      "metadata": {
        "id": "view-in-github",
        "colab_type": "text"
      },
      "source": [
        "<a href=\"https://colab.research.google.com/github/X4651/tibame-gad253/blob/main/tibame_0618_Python%E5%9F%BA%E7%A4%8E%E7%B7%B4%E7%BF%92.ipynb\" target=\"_parent\"><img src=\"https://colab.research.google.com/assets/colab-badge.svg\" alt=\"Open In Colab\"/></a>"
      ]
    },
    {
      "cell_type": "code",
      "source": [
        "# jupyter notebook 不用語法寫只會執行最後一行\n",
        "1+1\n",
        "2+2"
      ],
      "metadata": {
        "colab": {
          "base_uri": "https://localhost:8080/"
        },
        "id": "c1qlwXEg3Lpv",
        "outputId": "9343b12a-e6fa-45c3-c5c0-1edcdf02d8b4"
      },
      "execution_count": null,
      "outputs": [
        {
          "output_type": "execute_result",
          "data": {
            "text/plain": [
              "4"
            ]
          },
          "metadata": {},
          "execution_count": 9
        }
      ]
    },
    {
      "cell_type": "code",
      "execution_count": null,
      "metadata": {
        "colab": {
          "base_uri": "https://localhost:8080/"
        },
        "id": "uxNtWlzPrGWC",
        "outputId": "48d18731-2429-495d-8e1c-e59bc6fe0936"
      },
      "outputs": [
        {
          "output_type": "stream",
          "name": "stdout",
          "text": [
            "參數\n",
            "123\n",
            "5\n"
          ]
        }
      ],
      "source": [
        "# 功能一定要小括號，小括號中習慣不空格\n",
        "print(\"參數\")\n",
        "print(123)\n",
        "print(2+3)"
      ]
    },
    {
      "cell_type": "code",
      "source": [
        "# 判斷年月日是否合理的程式\n",
        "# 閏年的判斷(影響日)\n",
        "# 年月日:int\n",
        "year = 88\n",
        "month = 2\n",
        "day = 29\n",
        "day_per_month = [31, 28, 31, 30, 31, 30, 31, 31, 30, 31, 30, 31]\n",
        "\n",
        "if year >= 0:\n",
        "    if 1 <= month <= 12:\n",
        "        # 先拿出每個月的標準日數\n",
        "        day_limit = day_per_month[month-1]\n",
        "        if month == 2:\n",
        "            # 裡到外判斷閏年\n",
        "            if year % 400 == 0:\n",
        "                day_limit = day_limit + 1\n",
        "            elif year % 100 == 0:\n",
        "                pass\n",
        "            elif year % 4 == 0:\n",
        "                day_limit = day_limit + 1\n",
        "\n",
        "        if 1 <= day <= day_limit:\n",
        "            print(\"合理\")\n",
        "        else:\n",
        "            print(\"不合理\")\n",
        "    else:\n",
        "        print(\"月份不合理\")\n",
        "else:\n",
        "    print(\"年不合理\")"
      ],
      "metadata": {
        "colab": {
          "base_uri": "https://localhost:8080/"
        },
        "id": "v1QLLR3G1zp1",
        "outputId": "eef2fde2-23e4-4dba-b183-56542252c94a"
      },
      "execution_count": null,
      "outputs": [
        {
          "output_type": "stream",
          "name": "stdout",
          "text": [
            "合理\n"
          ]
        }
      ]
    },
    {
      "cell_type": "code",
      "source": [
        "# 假設今天星期一\n",
        "# 過了幾天->星期幾?\n",
        "day_pass = 14\n",
        "weekday = [\"一\",\"二\",\"三\",\"四\",\"五\",\"六\",\"七\",]\n",
        "week_pass = day_pass // 7\n",
        "week_remain = day_pass % 7\n",
        "print(f\"過了{week_pass}個禮拜\")\n",
        "print(f\"星期{weekday[week_remain]}\")"
      ],
      "metadata": {
        "colab": {
          "base_uri": "https://localhost:8080/"
        },
        "id": "JoJE7Gbu5wcb",
        "outputId": "f5c35fbd-faca-458a-8f52-4b73ae385cd4"
      },
      "execution_count": null,
      "outputs": [
        {
          "output_type": "stream",
          "name": "stdout",
          "text": [
            "過了2個禮拜\n",
            "星期一\n"
          ]
        }
      ]
    },
    {
      "cell_type": "code",
      "source": [
        "second_pass = 1750229644\n",
        "# 假設無閏年\n",
        "# 換出年分(商)\n",
        "second_per_year = 365 * 24 * 60 *60\n",
        "year_pass = second_pass // second_per_year\n",
        "second_remain = second_pass % second_per_year\n",
        "print(f\"過了{year_pass}年\")\n",
        "print(f\"多了{second_remain}秒\")"
      ],
      "metadata": {
        "colab": {
          "base_uri": "https://localhost:8080/"
        },
        "id": "v6kFGxmcz1ks",
        "outputId": "df5d1d7a-4c4d-4115-8a28-54e14e104882"
      },
      "execution_count": null,
      "outputs": [
        {
          "output_type": "stream",
          "name": "stdout",
          "text": [
            "過了55年\n",
            "多了15749644秒\n"
          ]
        }
      ]
    },
    {
      "cell_type": "code",
      "source": [
        "i = 0\n",
        "while i < 10:\n",
        "    print()\n",
        "    i = i + 1"
      ],
      "metadata": {
        "colab": {
          "base_uri": "https://localhost:8080/"
        },
        "id": "zPtTI1ORAfTi",
        "outputId": "7a8bc0d2-2d6b-4fcf-8a40-e4b4dc6442b3"
      },
      "execution_count": null,
      "outputs": [
        {
          "output_type": "stream",
          "name": "stdout",
          "text": [
            "-5\n",
            "-3\n",
            "-1\n",
            "1\n",
            "3\n",
            "5\n",
            "7\n",
            "9\n",
            "11\n",
            "13\n"
          ]
        }
      ]
    },
    {
      "cell_type": "code",
      "source": [
        "# 28000000\n",
        "# Sat Nov 21 1970 01:46:40 GMT+0000\n",
        "\n",
        "timestamp = 28000000\n",
        "# 把這秒數跟每一個月的總秒數相減, 如果無法相減(比較小)那就要停下來\n",
        "day_per_month = [31, 28, 31, 30, 31, 30, 31, 31, 30, 31, 30, 31]\n",
        "i = 0\n",
        "while i < 12:\n",
        "    month_day = day_per_month[i]\n",
        "    month_second = month_day * 24 * 60 * 60\n",
        "    if timestamp < month_second:\n",
        "        month = i + 1\n",
        "        print(\"已經不夠減了, 答案就是這個月:\", month)\n",
        "        break\n",
        "    else:\n",
        "        timestamp = timestamp - month_second\n",
        "    i = i + 1\n",
        "\n",
        "# 剩下的直接/每一天的秒數\n",
        "day_second = 24 * 60 * 60\n",
        "# 數數=0, 表示才有可能要多+1\n",
        "day = timestamp // day_second + 1\n",
        "timestamp = timestamp % day_second\n",
        "\n",
        "hr_second = 60 * 60\n",
        "hr = timestamp // hr_second\n",
        "timestamp = timestamp % hr_second\n",
        "\n",
        "min_second = 60\n",
        "min = timestamp // min_second\n",
        "timestamp = timestamp % min_second\n",
        "\n",
        "sec = timestamp\n",
        "\n",
        "print(month, day, hr, min, sec)"
      ],
      "metadata": {
        "colab": {
          "base_uri": "https://localhost:8080/"
        },
        "id": "Px3oMpJCFvwc",
        "outputId": "f1b77a76-0ee3-45fc-d9cf-41cd46d3ba11"
      },
      "execution_count": null,
      "outputs": [
        {
          "output_type": "stream",
          "name": "stdout",
          "text": [
            "已經不夠減了, 答案就是這個月: 11\n",
            "11 21 1 46 40\n"
          ]
        }
      ]
    }
  ]
}